{
 "cells": [
  {
   "cell_type": "code",
   "execution_count": 2,
   "metadata": {},
   "outputs": [],
   "source": [
    "import numpy as np \n",
    "import pandas as pd\n",
    "from datetime import date\n",
    "\n",
    "# plots\n",
    "import matplotlib.pyplot as plt\n",
    "import seaborn as sns\n",
    "plt.style.use('default') # haciendo los graficos un poco mas bonitos en matplotlib\n",
    "\n",
    "sns.set(style=\"whitegrid\") # seteando tipo de grid en seaborn\n",
    "%matplotlib inline\n",
    "\n",
    "#for linux use this\n",
    "#RUTA_DATOS = '../datos_navent_fiuba/'\n",
    "#and for windows use this\n",
    "RUTA_DATOS = '../datos_navent_fiuba/'"
   ]
  },
  {
   "cell_type": "code",
   "execution_count": 17,
   "metadata": {},
   "outputs": [],
   "source": [
    "#se cargan los datos\n",
    "postulantes_educacion = pd.read_csv(RUTA_DATOS + 'fiuba_1_postulantes_educacion.csv')\n",
    "pos_gen_edad = pd.read_csv(RUTA_DATOS + 'fiuba_2_postulantes_genero_y_edad.csv')\n",
    "vistas = pd.read_csv(RUTA_DATOS + 'fiuba_3_vistas.csv')\n",
    "postulaciones = pd.read_csv(RUTA_DATOS + 'fiuba_4_postulaciones.csv')\n",
    "avisos_online = pd.read_csv(RUTA_DATOS + 'fiuba_5_avisos_online.csv')\n",
    "avisos_detalle = pd.read_csv(RUTA_DATOS + 'fiuba_6_avisos_detalle.csv')\n"
   ]
  },
  {
   "cell_type": "markdown",
   "metadata": {},
   "source": [
    "### Visualizacion inicial de los dataframes\n",
    "Se procede a ver cada uno de los dataframes cargados junto con alguna de sus caracteriticas para analisar cual es la información que disponemos como punto de partida."
   ]
  },
  {
   "cell_type": "markdown",
   "metadata": {},
   "source": [
    "#### Postulantes_educacion"
   ]
  },
  {
   "cell_type": "code",
   "execution_count": 30,
   "metadata": {},
   "outputs": [
    {
     "data": {
      "text/html": [
       "<div>\n",
       "<style scoped>\n",
       "    .dataframe tbody tr th:only-of-type {\n",
       "        vertical-align: middle;\n",
       "    }\n",
       "\n",
       "    .dataframe tbody tr th {\n",
       "        vertical-align: top;\n",
       "    }\n",
       "\n",
       "    .dataframe thead th {\n",
       "        text-align: right;\n",
       "    }\n",
       "</style>\n",
       "<table border=\"1\" class=\"dataframe\">\n",
       "  <thead>\n",
       "    <tr style=\"text-align: right;\">\n",
       "      <th></th>\n",
       "      <th>idpostulante</th>\n",
       "      <th>nombre</th>\n",
       "      <th>estado</th>\n",
       "    </tr>\n",
       "  </thead>\n",
       "  <tbody>\n",
       "    <tr>\n",
       "      <th>0</th>\n",
       "      <td>NdJl</td>\n",
       "      <td>Posgrado</td>\n",
       "      <td>En Curso</td>\n",
       "    </tr>\n",
       "    <tr>\n",
       "      <th>1</th>\n",
       "      <td>8BkL</td>\n",
       "      <td>Universitario</td>\n",
       "      <td>En Curso</td>\n",
       "    </tr>\n",
       "    <tr>\n",
       "      <th>2</th>\n",
       "      <td>1d2B</td>\n",
       "      <td>Universitario</td>\n",
       "      <td>En Curso</td>\n",
       "    </tr>\n",
       "    <tr>\n",
       "      <th>3</th>\n",
       "      <td>NPBx</td>\n",
       "      <td>Universitario</td>\n",
       "      <td>En Curso</td>\n",
       "    </tr>\n",
       "    <tr>\n",
       "      <th>4</th>\n",
       "      <td>NPBx</td>\n",
       "      <td>Master</td>\n",
       "      <td>En Curso</td>\n",
       "    </tr>\n",
       "  </tbody>\n",
       "</table>\n",
       "</div>"
      ],
      "text/plain": [
       "  idpostulante         nombre    estado\n",
       "0         NdJl       Posgrado  En Curso\n",
       "1         8BkL  Universitario  En Curso\n",
       "2         1d2B  Universitario  En Curso\n",
       "3         NPBx  Universitario  En Curso\n",
       "4         NPBx         Master  En Curso"
      ]
     },
     "execution_count": 30,
     "metadata": {},
     "output_type": "execute_result"
    }
   ],
   "source": [
    "postulantes_educacion.head(5)"
   ]
  },
  {
   "cell_type": "markdown",
   "metadata": {},
   "source": [
    "Podemos observar que tenemos ids de los postulantes y el nombre y el estado de su respectivo nivel educativo. Además observamos que un usuario puede tener más de un nivel educativo."
   ]
  },
  {
   "cell_type": "code",
   "execution_count": 31,
   "metadata": {},
   "outputs": [
    {
     "data": {
      "text/plain": [
       "(298231, 3)"
      ]
     },
     "execution_count": 31,
     "metadata": {},
     "output_type": "execute_result"
    }
   ],
   "source": [
    "postulantes_educacion.shape"
   ]
  },
  {
   "cell_type": "code",
   "execution_count": 32,
   "metadata": {},
   "outputs": [
    {
     "name": "stdout",
     "output_type": "stream",
     "text": [
      "<class 'pandas.core.frame.DataFrame'>\n",
      "RangeIndex: 298231 entries, 0 to 298230\n",
      "Data columns (total 3 columns):\n",
      "idpostulante    298231 non-null object\n",
      "nombre          298231 non-null object\n",
      "estado          298231 non-null object\n",
      "dtypes: object(3)\n",
      "memory usage: 6.8+ MB\n"
     ]
    }
   ],
   "source": [
    "postulantes_educacion.info()"
   ]
  },
  {
   "cell_type": "code",
   "execution_count": 33,
   "metadata": {},
   "outputs": [
    {
     "data": {
      "text/plain": [
       "Secundario           110256\n",
       "Universitario        104295\n",
       "Terciario/Técnico     47733\n",
       "Otro                  24748\n",
       "Posgrado               7387\n",
       "Master                 3598\n",
       "Doctorado               214\n",
       "Name: nombre, dtype: int64"
      ]
     },
     "execution_count": 33,
     "metadata": {},
     "output_type": "execute_result"
    }
   ],
   "source": [
    "postulantes_educacion['nombre'].value_counts()"
   ]
  },
  {
   "cell_type": "code",
   "execution_count": 34,
   "metadata": {},
   "outputs": [
    {
     "data": {
      "text/plain": [
       "Graduado      194474\n",
       "En Curso       78531\n",
       "Abandonado     25226\n",
       "Name: estado, dtype: int64"
      ]
     },
     "execution_count": 34,
     "metadata": {},
     "output_type": "execute_result"
    }
   ],
   "source": [
    "postulantes_educacion['estado'].value_counts()"
   ]
  },
  {
   "cell_type": "code",
   "execution_count": 35,
   "metadata": {},
   "outputs": [
    {
     "data": {
      "text/plain": [
       "(188752, 3)"
      ]
     },
     "execution_count": 35,
     "metadata": {},
     "output_type": "execute_result"
    }
   ],
   "source": [
    "postulantes_educacion.drop_duplicates('idpostulante').shape"
   ]
  },
  {
   "cell_type": "markdown",
   "metadata": {},
   "source": [
    "Como vemos, la cantidad real de usuarios sobre la que se tiene información acerca de su nivel o niveles educativos son 188752."
   ]
  },
  {
   "cell_type": "code",
   "execution_count": 4,
   "metadata": {},
   "outputs": [],
   "source": [
    "#se observa que nombre y estado son valores categoricos\n",
    "#genera problemas mas adelante\n",
    "#postulantes_educacion['estado'] = postulantes_educacion['estado'].astype('category')\n",
    "#postulantes_educacion['nombre'] = postulantes_educacion['nombre'].astype('category')"
   ]
  },
  {
   "cell_type": "code",
   "execution_count": 37,
   "metadata": {},
   "outputs": [
    {
     "data": {
      "text/html": [
       "<div>\n",
       "<style scoped>\n",
       "    .dataframe tbody tr th:only-of-type {\n",
       "        vertical-align: middle;\n",
       "    }\n",
       "\n",
       "    .dataframe tbody tr th {\n",
       "        vertical-align: top;\n",
       "    }\n",
       "\n",
       "    .dataframe thead th {\n",
       "        text-align: right;\n",
       "    }\n",
       "</style>\n",
       "<table border=\"1\" class=\"dataframe\">\n",
       "  <thead>\n",
       "    <tr style=\"text-align: right;\">\n",
       "      <th>estado</th>\n",
       "      <th>Abandonado</th>\n",
       "      <th>En Curso</th>\n",
       "      <th>Graduado</th>\n",
       "    </tr>\n",
       "    <tr>\n",
       "      <th>nombre</th>\n",
       "      <th></th>\n",
       "      <th></th>\n",
       "      <th></th>\n",
       "    </tr>\n",
       "  </thead>\n",
       "  <tbody>\n",
       "    <tr>\n",
       "      <th>Doctorado</th>\n",
       "      <td>15</td>\n",
       "      <td>94</td>\n",
       "      <td>105</td>\n",
       "    </tr>\n",
       "    <tr>\n",
       "      <th>Master</th>\n",
       "      <td>144</td>\n",
       "      <td>1519</td>\n",
       "      <td>1935</td>\n",
       "    </tr>\n",
       "    <tr>\n",
       "      <th>Otro</th>\n",
       "      <td>947</td>\n",
       "      <td>4919</td>\n",
       "      <td>18882</td>\n",
       "    </tr>\n",
       "    <tr>\n",
       "      <th>Posgrado</th>\n",
       "      <td>317</td>\n",
       "      <td>2239</td>\n",
       "      <td>4831</td>\n",
       "    </tr>\n",
       "    <tr>\n",
       "      <th>Secundario</th>\n",
       "      <td>3156</td>\n",
       "      <td>3995</td>\n",
       "      <td>103105</td>\n",
       "    </tr>\n",
       "    <tr>\n",
       "      <th>Terciario/Técnico</th>\n",
       "      <td>5692</td>\n",
       "      <td>15032</td>\n",
       "      <td>27009</td>\n",
       "    </tr>\n",
       "    <tr>\n",
       "      <th>Universitario</th>\n",
       "      <td>14955</td>\n",
       "      <td>50733</td>\n",
       "      <td>38607</td>\n",
       "    </tr>\n",
       "  </tbody>\n",
       "</table>\n",
       "</div>"
      ],
      "text/plain": [
       "estado             Abandonado  En Curso  Graduado\n",
       "nombre                                           \n",
       "Doctorado                  15        94       105\n",
       "Master                    144      1519      1935\n",
       "Otro                      947      4919     18882\n",
       "Posgrado                  317      2239      4831\n",
       "Secundario               3156      3995    103105\n",
       "Terciario/Técnico        5692     15032     27009\n",
       "Universitario           14955     50733     38607"
      ]
     },
     "execution_count": 37,
     "metadata": {},
     "output_type": "execute_result"
    }
   ],
   "source": [
    "pd.crosstab(postulantes_educacion.nombre, postulantes_educacion.estado)"
   ]
  },
  {
   "cell_type": "code",
   "execution_count": 38,
   "metadata": {},
   "outputs": [
    {
     "data": {
      "text/plain": [
       "[Text(0,0,'Doctorado'),\n",
       " Text(0,0,'Master'),\n",
       " Text(0,0,'Otro'),\n",
       " Text(0,0,'Posgrado'),\n",
       " Text(0,0,'Secundario'),\n",
       " Text(0,0,'Terciario/Técnico'),\n",
       " Text(0,0,'Universitario')]"
      ]
     },
     "execution_count": 38,
     "metadata": {},
     "output_type": "execute_result"
    },
    {
     "data": {
      "image/png": "[encoded data removed]",
      "text/plain": [
       "<matplotlib.figure.Figure at 0x2570a0372b0>"
      ]
     },
     "metadata": {},
     "output_type": "display_data"
    }
   ],
   "source": [
    "g = sns.countplot(x= 'nombre', hue= 'estado', data = postulantes_educacion)\n",
    "g.set_title('Estados por tipo de educación')\n",
    "g.set_xlabel('nombre tipo educación')\n",
    "g.set_ylabel('cantidad')\n",
    "g.set_xticklabels(g.get_xticklabels(), rotation = 45)"
   ]
  },
  {
   "cell_type": "markdown",
   "metadata": {},
   "source": [
    "#### Postulantes_gen_y_edad"
   ]
  },
  {
   "cell_type": "code",
   "execution_count": 39,
   "metadata": {},
   "outputs": [
    {
     "data": {
      "text/html": [
       "<div>\n",
       "<style scoped>\n",
       "    .dataframe tbody tr th:only-of-type {\n",
       "        vertical-align: middle;\n",
       "    }\n",
       "\n",
       "    .dataframe tbody tr th {\n",
       "        vertical-align: top;\n",
       "    }\n",
       "\n",
       "    .dataframe thead th {\n",
       "        text-align: right;\n",
       "    }\n",
       "</style>\n",
       "<table border=\"1\" class=\"dataframe\">\n",
       "  <thead>\n",
       "    <tr style=\"text-align: right;\">\n",
       "      <th></th>\n",
       "      <th>idpostulante</th>\n",
       "      <th>fechanacimiento</th>\n",
       "      <th>sexo</th>\n",
       "    </tr>\n",
       "  </thead>\n",
       "  <tbody>\n",
       "    <tr>\n",
       "      <th>0</th>\n",
       "      <td>NM5M</td>\n",
       "      <td>1970-12-03</td>\n",
       "      <td>FEM</td>\n",
       "    </tr>\n",
       "    <tr>\n",
       "      <th>1</th>\n",
       "      <td>5awk</td>\n",
       "      <td>1962-12-04</td>\n",
       "      <td>FEM</td>\n",
       "    </tr>\n",
       "    <tr>\n",
       "      <th>2</th>\n",
       "      <td>ZaO5</td>\n",
       "      <td>1978-08-10</td>\n",
       "      <td>FEM</td>\n",
       "    </tr>\n",
       "    <tr>\n",
       "      <th>3</th>\n",
       "      <td>NdJl</td>\n",
       "      <td>1969-05-09</td>\n",
       "      <td>MASC</td>\n",
       "    </tr>\n",
       "    <tr>\n",
       "      <th>4</th>\n",
       "      <td>eo2p</td>\n",
       "      <td>1981-02-16</td>\n",
       "      <td>MASC</td>\n",
       "    </tr>\n",
       "  </tbody>\n",
       "</table>\n",
       "</div>"
      ],
      "text/plain": [
       "  idpostulante fechanacimiento  sexo\n",
       "0         NM5M      1970-12-03   FEM\n",
       "1         5awk      1962-12-04   FEM\n",
       "2         ZaO5      1978-08-10   FEM\n",
       "3         NdJl      1969-05-09  MASC\n",
       "4         eo2p      1981-02-16  MASC"
      ]
     },
     "execution_count": 39,
     "metadata": {},
     "output_type": "execute_result"
    }
   ],
   "source": [
    "pos_gen_edad.head(5)"
   ]
  },
  {
   "cell_type": "markdown",
   "metadata": {},
   "source": [
    "Podemos observar que tenemos ids de los postulantes, su fecha de nacimiento y su respectivo genero."
   ]
  },
  {
   "cell_type": "code",
   "execution_count": 40,
   "metadata": {},
   "outputs": [
    {
     "data": {
      "text/plain": [
       "(200888, 3)"
      ]
     },
     "execution_count": 40,
     "metadata": {},
     "output_type": "execute_result"
    }
   ],
   "source": [
    "pos_gen_edad.shape"
   ]
  },
  {
   "cell_type": "markdown",
   "metadata": {},
   "source": [
    "Podemos observar que la cantidad de postulantes sobre la que se tiene esta información (200888) es mayor a la que se tiene el nivel educativo (188752)."
   ]
  },
  {
   "cell_type": "code",
   "execution_count": 41,
   "metadata": {},
   "outputs": [
    {
     "name": "stdout",
     "output_type": "stream",
     "text": [
      "<class 'pandas.core.frame.DataFrame'>\n",
      "RangeIndex: 200888 entries, 0 to 200887\n",
      "Data columns (total 3 columns):\n",
      "idpostulante       200888 non-null object\n",
      "fechanacimiento    196138 non-null object\n",
      "sexo               200888 non-null object\n",
      "dtypes: object(3)\n",
      "memory usage: 4.6+ MB\n"
     ]
    }
   ],
   "source": [
    "pos_gen_edad.info()"
   ]
  },
  {
   "cell_type": "markdown",
   "metadata": {},
   "source": [
    "Existen postulantes sobre los que no tenemos información de su edad"
   ]
  },
  {
   "cell_type": "code",
   "execution_count": 18,
   "metadata": {},
   "outputs": [],
   "source": [
    "#se observa que sexo son valores categoricos y fechanacimiento fechas\n",
    "\n",
    "pos_gen_edad['fechanacimiento'] = pd.to_datetime(pos_gen_edad['fechanacimiento'], errors = 'coerce', format= '%Y-%m-%d')\n",
    "pos_gen_edad['sexo'] = pos_gen_edad['sexo'].astype('category')"
   ]
  },
  {
   "cell_type": "code",
   "execution_count": 43,
   "metadata": {},
   "outputs": [
    {
     "name": "stdout",
     "output_type": "stream",
     "text": [
      "<class 'pandas.core.frame.DataFrame'>\n",
      "RangeIndex: 200888 entries, 0 to 200887\n",
      "Data columns (total 3 columns):\n",
      "idpostulante       200888 non-null object\n",
      "fechanacimiento    196131 non-null datetime64[ns]\n",
      "sexo               200888 non-null category\n",
      "dtypes: category(1), datetime64[ns](1), object(1)\n",
      "memory usage: 3.3+ MB\n"
     ]
    }
   ],
   "source": [
    "pos_gen_edad.info()"
   ]
  },
  {
   "cell_type": "markdown",
   "metadata": {},
   "source": [
    "Vemos que existian 7 datos (196138-196131) que tenian fechas de nacimiento en formato incorrecto."
   ]
  },
  {
   "cell_type": "code",
   "execution_count": 19,
   "metadata": {},
   "outputs": [],
   "source": [
    "pos_gen_edad = pos_gen_edad[~(pos_gen_edad['fechanacimiento'].isnull())]"
   ]
  },
  {
   "cell_type": "code",
   "execution_count": 20,
   "metadata": {},
   "outputs": [
    {
     "name": "stdout",
     "output_type": "stream",
     "text": [
      "<class 'pandas.core.frame.DataFrame'>\n",
      "Int64Index: 196131 entries, 0 to 200886\n",
      "Data columns (total 3 columns):\n",
      "idpostulante       196131 non-null object\n",
      "fechanacimiento    196131 non-null datetime64[ns]\n",
      "sexo               196131 non-null category\n",
      "dtypes: category(1), datetime64[ns](1), object(1)\n",
      "memory usage: 4.7+ MB\n"
     ]
    }
   ],
   "source": [
    "pos_gen_edad.info()"
   ]
  },
  {
   "cell_type": "code",
   "execution_count": 46,
   "metadata": {},
   "outputs": [
    {
     "data": {
      "text/plain": [
       "FEM           101674\n",
       "MASC           94013\n",
       "NO_DECLARA       444\n",
       "Name: sexo, dtype: int64"
      ]
     },
     "execution_count": 46,
     "metadata": {},
     "output_type": "execute_result"
    }
   ],
   "source": [
    "pos_gen_edad['sexo'].value_counts()"
   ]
  },
  {
   "cell_type": "markdown",
   "metadata": {},
   "source": [
    "La cantidad de datos acerca de hombres y mujeres que poseemos es aproximadamente la misma."
   ]
  },
  {
   "cell_type": "code",
   "execution_count": 22,
   "metadata": {},
   "outputs": [
    {
     "data": {
      "text/html": [
       "<div>\n",
       "<style scoped>\n",
       "    .dataframe tbody tr th:only-of-type {\n",
       "        vertical-align: middle;\n",
       "    }\n",
       "\n",
       "    .dataframe tbody tr th {\n",
       "        vertical-align: top;\n",
       "    }\n",
       "\n",
       "    .dataframe thead th {\n",
       "        text-align: right;\n",
       "    }\n",
       "</style>\n",
       "<table border=\"1\" class=\"dataframe\">\n",
       "  <thead>\n",
       "    <tr style=\"text-align: right;\">\n",
       "      <th></th>\n",
       "      <th>idpostulante</th>\n",
       "      <th>fechanacimiento</th>\n",
       "      <th>sexo</th>\n",
       "      <th>edad</th>\n",
       "    </tr>\n",
       "  </thead>\n",
       "  <tbody>\n",
       "    <tr>\n",
       "      <th>0</th>\n",
       "      <td>NM5M</td>\n",
       "      <td>1970-12-03</td>\n",
       "      <td>FEM</td>\n",
       "      <td>47</td>\n",
       "    </tr>\n",
       "    <tr>\n",
       "      <th>1</th>\n",
       "      <td>5awk</td>\n",
       "      <td>1962-12-04</td>\n",
       "      <td>FEM</td>\n",
       "      <td>55</td>\n",
       "    </tr>\n",
       "    <tr>\n",
       "      <th>2</th>\n",
       "      <td>ZaO5</td>\n",
       "      <td>1978-08-10</td>\n",
       "      <td>FEM</td>\n",
       "      <td>39</td>\n",
       "    </tr>\n",
       "    <tr>\n",
       "      <th>3</th>\n",
       "      <td>NdJl</td>\n",
       "      <td>1969-05-09</td>\n",
       "      <td>MASC</td>\n",
       "      <td>48</td>\n",
       "    </tr>\n",
       "    <tr>\n",
       "      <th>4</th>\n",
       "      <td>eo2p</td>\n",
       "      <td>1981-02-16</td>\n",
       "      <td>MASC</td>\n",
       "      <td>37</td>\n",
       "    </tr>\n",
       "  </tbody>\n",
       "</table>\n",
       "</div>"
      ],
      "text/plain": [
       "  idpostulante fechanacimiento  sexo  edad\n",
       "0         NM5M      1970-12-03   FEM    47\n",
       "1         5awk      1962-12-04   FEM    55\n",
       "2         ZaO5      1978-08-10   FEM    39\n",
       "3         NdJl      1969-05-09  MASC    48\n",
       "4         eo2p      1981-02-16  MASC    37"
      ]
     },
     "execution_count": 22,
     "metadata": {},
     "output_type": "execute_result"
    }
   ],
   "source": [
    "today = date.today()\n",
    "fechas = pos_gen_edad['fechanacimiento']\n",
    "pos_gen_edad['edad'] = fechas.map(lambda x: today.year - x.year - ((today.month, today.day) < (x.month, x.day)))\n",
    "pos_gen_edad.head(5)"
   ]
  },
  {
   "cell_type": "code",
   "execution_count": 58,
   "metadata": {},
   "outputs": [
    {
     "data": {
      "text/plain": [
       "Text(0,0.5,'cantidad de postulantes')"
      ]
     },
     "execution_count": 58,
     "metadata": {},
     "output_type": "execute_result"
    },
    {
     "data": {
      "image/png": "[encoded data removed]",
      "text/plain": [
       "<matplotlib.figure.Figure at 0x2571055f710>"
      ]
     },
     "metadata": {},
     "output_type": "display_data"
    }
   ],
   "source": [
    "edades = pos_gen_edad['edad'].value_counts()[:15]\n",
    "g = sns.barplot(x= edades.index, y=edades.values, orient= 'v')\n",
    "g.set_title('Edades más comunes de los potulantes')\n",
    "g.set_xlabel('edad')\n",
    "g.set_ylabel('cantidad de postulantes')"
   ]
  },
  {
   "cell_type": "code",
   "execution_count": 23,
   "metadata": {},
   "outputs": [],
   "source": [
    "#filtro edades que no tienen demaciado sentido en esta página\n",
    "pos_gen_edad = pos_gen_edad[pos_gen_edad['edad'] < 65]\n",
    "pos_gen_edad = pos_gen_edad[16 <= pos_gen_edad['edad']]"
   ]
  },
  {
   "cell_type": "code",
   "execution_count": 67,
   "metadata": {},
   "outputs": [
    {
     "data": {
      "image/png": "[encoded data removed]",
      "text/plain": [
       "<matplotlib.figure.Figure at 0x2acd0f55be0>"
      ]
     },
     "metadata": {},
     "output_type": "display_data"
    }
   ],
   "source": [
    "edades_masc = pos_gen_edad[(pos_gen_edad['sexo'] == 'MASC') & (pos_gen_edad['edad'] <= 50) ]['edad'].value_counts().sort_index()\n",
    "edades_fem = pos_gen_edad[(pos_gen_edad['sexo'] == 'FEM') & (pos_gen_edad['edad'] <= 50) ]['edad'].value_counts().sort_index()\n",
    "plt.figure()\n",
    "edades_fem.plot(rot = 90, xticks = range(16,51), label = 'mujeres');\n",
    "edades_masc.plot(rot = 90, xticks = range(16,51), label = 'hombres');\n",
    "plt.title('Edad de hombres y mujeres')\n",
    "plt.legend();"
   ]
  },
  {
   "cell_type": "markdown",
   "metadata": {},
   "source": [
    "#### Vistas"
   ]
  },
  {
   "cell_type": "code",
   "execution_count": 30,
   "metadata": {},
   "outputs": [
    {
     "data": {
      "text/html": [
       "<div>\n",
       "<style scoped>\n",
       "    .dataframe tbody tr th:only-of-type {\n",
       "        vertical-align: middle;\n",
       "    }\n",
       "\n",
       "    .dataframe tbody tr th {\n",
       "        vertical-align: top;\n",
       "    }\n",
       "\n",
       "    .dataframe thead th {\n",
       "        text-align: right;\n",
       "    }\n",
       "</style>\n",
       "<table border=\"1\" class=\"dataframe\">\n",
       "  <thead>\n",
       "    <tr style=\"text-align: right;\">\n",
       "      <th></th>\n",
       "      <th>idAviso</th>\n",
       "      <th>timestamp</th>\n",
       "      <th>idpostulante</th>\n",
       "    </tr>\n",
       "  </thead>\n",
       "  <tbody>\n",
       "    <tr>\n",
       "      <th>961892</th>\n",
       "      <td>1112366944</td>\n",
       "      <td>2018-02-28T23:59:08.772-0500</td>\n",
       "      <td>MVPj3AK</td>\n",
       "    </tr>\n",
       "    <tr>\n",
       "      <th>961893</th>\n",
       "      <td>1001442844</td>\n",
       "      <td>2018-02-28T23:59:37.000-0500</td>\n",
       "      <td>VNrYP6m</td>\n",
       "    </tr>\n",
       "    <tr>\n",
       "      <th>961894</th>\n",
       "      <td>1112362644</td>\n",
       "      <td>2018-02-28T23:59:46.181-0500</td>\n",
       "      <td>owzLD43</td>\n",
       "    </tr>\n",
       "    <tr>\n",
       "      <th>961895</th>\n",
       "      <td>1112305277</td>\n",
       "      <td>2018-02-28T23:59:52.754-0500</td>\n",
       "      <td>A3DraY1</td>\n",
       "    </tr>\n",
       "    <tr>\n",
       "      <th>961896</th>\n",
       "      <td>1112345900</td>\n",
       "      <td>2018-02-28T23:59:55.409-0500</td>\n",
       "      <td>ekmNzBW</td>\n",
       "    </tr>\n",
       "  </tbody>\n",
       "</table>\n",
       "</div>"
      ],
      "text/plain": [
       "           idAviso                     timestamp idpostulante\n",
       "961892  1112366944  2018-02-28T23:59:08.772-0500      MVPj3AK\n",
       "961893  1001442844  2018-02-28T23:59:37.000-0500      VNrYP6m\n",
       "961894  1112362644  2018-02-28T23:59:46.181-0500      owzLD43\n",
       "961895  1112305277  2018-02-28T23:59:52.754-0500      A3DraY1\n",
       "961896  1112345900  2018-02-28T23:59:55.409-0500      ekmNzBW"
      ]
     },
     "execution_count": 30,
     "metadata": {},
     "output_type": "execute_result"
    }
   ],
   "source": [
    "vistas.tail(5)"
   ]
  },
  {
   "cell_type": "markdown",
   "metadata": {},
   "source": [
    "Aquí encontramos las vistas que tuvo un aviso idAviso por el postulante idpostulante"
   ]
  },
  {
   "cell_type": "code",
   "execution_count": 50,
   "metadata": {},
   "outputs": [
    {
     "data": {
      "text/plain": [
       "(961897, 3)"
      ]
     },
     "execution_count": 50,
     "metadata": {},
     "output_type": "execute_result"
    }
   ],
   "source": [
    "vistas.shape"
   ]
  },
  {
   "cell_type": "code",
   "execution_count": 51,
   "metadata": {},
   "outputs": [
    {
     "name": "stdout",
     "output_type": "stream",
     "text": [
      "<class 'pandas.core.frame.DataFrame'>\n",
      "RangeIndex: 961897 entries, 0 to 961896\n",
      "Data columns (total 3 columns):\n",
      "idAviso         961897 non-null int64\n",
      "timestamp       961897 non-null object\n",
      "idpostulante    961897 non-null object\n",
      "dtypes: int64(1), object(2)\n",
      "memory usage: 22.0+ MB\n"
     ]
    }
   ],
   "source": [
    "vistas.info()"
   ]
  },
  {
   "cell_type": "code",
   "execution_count": 31,
   "metadata": {},
   "outputs": [],
   "source": [
    "vistas['timestamp'] = pd.to_datetime(vistas['timestamp'], errors = 'coerce', format = \"%Y-%m-%dT%H:%M:%S.%f-0500\")"
   ]
  },
  {
   "cell_type": "code",
   "execution_count": 32,
   "metadata": {},
   "outputs": [
    {
     "name": "stdout",
     "output_type": "stream",
     "text": [
      "<class 'pandas.core.frame.DataFrame'>\n",
      "RangeIndex: 961897 entries, 0 to 961896\n",
      "Data columns (total 3 columns):\n",
      "idAviso         961897 non-null int64\n",
      "timestamp       961897 non-null datetime64[ns]\n",
      "idpostulante    961897 non-null object\n",
      "dtypes: datetime64[ns](1), int64(1), object(1)\n",
      "memory usage: 22.0+ MB\n"
     ]
    }
   ],
   "source": [
    "vistas.info()"
   ]
  },
  {
   "cell_type": "code",
   "execution_count": 33,
   "metadata": {},
   "outputs": [
    {
     "data": {
      "text/html": [
       "<div>\n",
       "<style scoped>\n",
       "    .dataframe tbody tr th:only-of-type {\n",
       "        vertical-align: middle;\n",
       "    }\n",
       "\n",
       "    .dataframe tbody tr th {\n",
       "        vertical-align: top;\n",
       "    }\n",
       "\n",
       "    .dataframe thead th {\n",
       "        text-align: right;\n",
       "    }\n",
       "</style>\n",
       "<table border=\"1\" class=\"dataframe\">\n",
       "  <thead>\n",
       "    <tr style=\"text-align: right;\">\n",
       "      <th></th>\n",
       "      <th>idAviso</th>\n",
       "      <th>timestamp</th>\n",
       "      <th>idpostulante</th>\n",
       "    </tr>\n",
       "  </thead>\n",
       "  <tbody>\n",
       "    <tr>\n",
       "      <th>961892</th>\n",
       "      <td>1112366944</td>\n",
       "      <td>2018-02-28 23:59:08.772</td>\n",
       "      <td>MVPj3AK</td>\n",
       "    </tr>\n",
       "    <tr>\n",
       "      <th>961893</th>\n",
       "      <td>1001442844</td>\n",
       "      <td>2018-02-28 23:59:37.000</td>\n",
       "      <td>VNrYP6m</td>\n",
       "    </tr>\n",
       "    <tr>\n",
       "      <th>961894</th>\n",
       "      <td>1112362644</td>\n",
       "      <td>2018-02-28 23:59:46.181</td>\n",
       "      <td>owzLD43</td>\n",
       "    </tr>\n",
       "    <tr>\n",
       "      <th>961895</th>\n",
       "      <td>1112305277</td>\n",
       "      <td>2018-02-28 23:59:52.754</td>\n",
       "      <td>A3DraY1</td>\n",
       "    </tr>\n",
       "    <tr>\n",
       "      <th>961896</th>\n",
       "      <td>1112345900</td>\n",
       "      <td>2018-02-28 23:59:55.409</td>\n",
       "      <td>ekmNzBW</td>\n",
       "    </tr>\n",
       "  </tbody>\n",
       "</table>\n",
       "</div>"
      ],
      "text/plain": [
       "           idAviso               timestamp idpostulante\n",
       "961892  1112366944 2018-02-28 23:59:08.772      MVPj3AK\n",
       "961893  1001442844 2018-02-28 23:59:37.000      VNrYP6m\n",
       "961894  1112362644 2018-02-28 23:59:46.181      owzLD43\n",
       "961895  1112305277 2018-02-28 23:59:52.754      A3DraY1\n",
       "961896  1112345900 2018-02-28 23:59:55.409      ekmNzBW"
      ]
     },
     "execution_count": 33,
     "metadata": {},
     "output_type": "execute_result"
    }
   ],
   "source": [
    "vistas.tail()"
   ]
  },
  {
   "cell_type": "code",
   "execution_count": 34,
   "metadata": {},
   "outputs": [
    {
     "data": {
      "text/plain": [
       "Text(0,0.5,'Cantidad de vistas')"
      ]
     },
     "execution_count": 34,
     "metadata": {},
     "output_type": "execute_result"
    },
    {
     "data": {
      "image/png": "[encoded data removed]",
      "text/plain": [
       "<matplotlib.figure.Figure at 0x7fdea3f71630>"
      ]
     },
     "metadata": {},
     "output_type": "display_data"
    }
   ],
   "source": [
    "horarios = vistas['timestamp'].dt.hour.value_counts().sort_index()\n",
    "g = horarios.plot(xticks= range(0,24))\n",
    "g.set_title('Cantidad de vistas por horario')\n",
    "g.set_xlabel('Horario')\n",
    "g.set_ylabel('Cantidad de vistas')"
   ]
  },
  {
   "cell_type": "code",
   "execution_count": 35,
   "metadata": {},
   "outputs": [
    {
     "data": {
      "text/plain": [
       "[Text(0,0,'Lunes'),\n",
       " Text(0,0,'Martes'),\n",
       " Text(0,0,'Miercoles'),\n",
       " Text(0,0,'Jueves'),\n",
       " Text(0,0,'Viernes'),\n",
       " Text(0,0,'Sabado')]"
      ]
     },
     "execution_count": 35,
     "metadata": {},
     "output_type": "execute_result"
    },
    {
     "data": {
      "image/png": "[encoded data removed]",
      "text/plain": [
       "<matplotlib.figure.Figure at 0x7fdea3ff8780>"
      ]
     },
     "metadata": {},
     "output_type": "display_data"
    }
   ],
   "source": [
    "weekdays = vistas['timestamp'].map(lambda x: x.weekday()).value_counts()\n",
    "g = sns.barplot(x= weekdays.values, y= weekdays.index, orient ='h')\n",
    "g.set_title('Vistas por día de la semana')\n",
    "g.set_xlabel('cantidad de vistas')\n",
    "g.set_ylabel('día de la semana')\n",
    "g.set_yticklabels(('Lunes', 'Martes', 'Miercoles', 'Jueves', 'Viernes', 'Sabado','Domingo'))"
   ]
  },
  {
   "cell_type": "markdown",
   "metadata": {},
   "source": [
    "#### Postulaciones"
   ]
  },
  {
   "cell_type": "code",
   "execution_count": 36,
   "metadata": {},
   "outputs": [
    {
     "data": {
      "text/html": [
       "<div>\n",
       "<style scoped>\n",
       "    .dataframe tbody tr th:only-of-type {\n",
       "        vertical-align: middle;\n",
       "    }\n",
       "\n",
       "    .dataframe tbody tr th {\n",
       "        vertical-align: top;\n",
       "    }\n",
       "\n",
       "    .dataframe thead th {\n",
       "        text-align: right;\n",
       "    }\n",
       "</style>\n",
       "<table border=\"1\" class=\"dataframe\">\n",
       "  <thead>\n",
       "    <tr style=\"text-align: right;\">\n",
       "      <th></th>\n",
       "      <th>idaviso</th>\n",
       "      <th>idpostulante</th>\n",
       "      <th>fechapostulacion</th>\n",
       "    </tr>\n",
       "  </thead>\n",
       "  <tbody>\n",
       "    <tr>\n",
       "      <th>0</th>\n",
       "      <td>1112257047</td>\n",
       "      <td>NM5M</td>\n",
       "      <td>2018-01-15 16:22:34</td>\n",
       "    </tr>\n",
       "    <tr>\n",
       "      <th>1</th>\n",
       "      <td>1111920714</td>\n",
       "      <td>NM5M</td>\n",
       "      <td>2018-02-06 09:04:50</td>\n",
       "    </tr>\n",
       "    <tr>\n",
       "      <th>2</th>\n",
       "      <td>1112346945</td>\n",
       "      <td>NM5M</td>\n",
       "      <td>2018-02-22 09:04:47</td>\n",
       "    </tr>\n",
       "    <tr>\n",
       "      <th>3</th>\n",
       "      <td>1112345547</td>\n",
       "      <td>NM5M</td>\n",
       "      <td>2018-02-22 09:04:59</td>\n",
       "    </tr>\n",
       "    <tr>\n",
       "      <th>4</th>\n",
       "      <td>1112237522</td>\n",
       "      <td>5awk</td>\n",
       "      <td>2018-01-25 18:55:03</td>\n",
       "    </tr>\n",
       "  </tbody>\n",
       "</table>\n",
       "</div>"
      ],
      "text/plain": [
       "      idaviso idpostulante     fechapostulacion\n",
       "0  1112257047         NM5M  2018-01-15 16:22:34\n",
       "1  1111920714         NM5M  2018-02-06 09:04:50\n",
       "2  1112346945         NM5M  2018-02-22 09:04:47\n",
       "3  1112345547         NM5M  2018-02-22 09:04:59\n",
       "4  1112237522         5awk  2018-01-25 18:55:03"
      ]
     },
     "execution_count": 36,
     "metadata": {},
     "output_type": "execute_result"
    }
   ],
   "source": [
    "postulaciones.head(5)"
   ]
  },
  {
   "cell_type": "code",
   "execution_count": 37,
   "metadata": {},
   "outputs": [
    {
     "data": {
      "text/plain": [
       "(3401623, 3)"
      ]
     },
     "execution_count": 37,
     "metadata": {},
     "output_type": "execute_result"
    }
   ],
   "source": [
    "postulaciones.shape"
   ]
  },
  {
   "cell_type": "code",
   "execution_count": 38,
   "metadata": {},
   "outputs": [
    {
     "name": "stdout",
     "output_type": "stream",
     "text": [
      "<class 'pandas.core.frame.DataFrame'>\n",
      "RangeIndex: 3401623 entries, 0 to 3401622\n",
      "Data columns (total 3 columns):\n",
      "idaviso             int64\n",
      "idpostulante        object\n",
      "fechapostulacion    object\n",
      "dtypes: int64(1), object(2)\n",
      "memory usage: 77.9+ MB\n"
     ]
    }
   ],
   "source": [
    "postulaciones.info()"
   ]
  },
  {
   "cell_type": "code",
   "execution_count": 39,
   "metadata": {},
   "outputs": [],
   "source": [
    "postulaciones['fechapostulacion'] = pd.to_datetime(postulaciones['fechapostulacion'],errors = 'coerce', format = \"%Y-%m-%d %H:%M:%S\")"
   ]
  },
  {
   "cell_type": "code",
   "execution_count": 40,
   "metadata": {},
   "outputs": [
    {
     "data": {
      "text/plain": [
       "count    200888.000000\n",
       "mean         16.932933\n",
       "std          31.267385\n",
       "min           1.000000\n",
       "25%           3.000000\n",
       "50%           8.000000\n",
       "75%          19.000000\n",
       "max        3166.000000\n",
       "Name: idpostulante, dtype: float64"
      ]
     },
     "execution_count": 40,
     "metadata": {},
     "output_type": "execute_result"
    }
   ],
   "source": [
    "#promedio de postulaciones por usuario\n",
    "postulantes = postulaciones['idpostulante'].value_counts()\n",
    "postulantes.describe()"
   ]
  },
  {
   "cell_type": "code",
   "execution_count": 41,
   "metadata": {},
   "outputs": [
    {
     "data": {
      "text/plain": [
       "Text(0,0.5,'cantidad de usuarios')"
      ]
     },
     "execution_count": 41,
     "metadata": {},
     "output_type": "execute_result"
    },
    {
     "data": {
      "image/png": "[encoded data removed]",
      "text/plain": [
       "<matplotlib.figure.Figure at 0x7fdea3efe550>"
      ]
     },
     "metadata": {},
     "output_type": "display_data"
    }
   ],
   "source": [
    "g = postulantes.hist(bins=100)\n",
    "g.set_title('Cantidad de usuarios que se postulan a avisos')\n",
    "g.set_xlabel('cantidad de postulaciones')\n",
    "g.set_ylabel('cantidad de usuarios')"
   ]
  },
  {
   "cell_type": "markdown",
   "metadata": {},
   "source": [
    "Filtramos porque como vemos muy pocos usuarios se han postulado a muchisimos avisos."
   ]
  },
  {
   "cell_type": "code",
   "execution_count": 42,
   "metadata": {},
   "outputs": [
    {
     "data": {
      "text/plain": [
       "Text(0,0.5,'cantidad de usuarios')"
      ]
     },
     "execution_count": 42,
     "metadata": {},
     "output_type": "execute_result"
    },
    {
     "data": {
      "image/png": "[encoded data removed]",
      "text/plain": [
       "<matplotlib.figure.Figure at 0x7fdea3dfebe0>"
      ]
     },
     "metadata": {},
     "output_type": "display_data"
    }
   ],
   "source": [
    "postulantes_filt = postulantes[postulantes.values < 50]\n",
    "g = postulantes_filt.hist(bins=49)\n",
    "g.set_title('Cantidad de usuarios que se postulan a avisos')\n",
    "g.set_xlabel('cantidad de postulaciones')\n",
    "g.set_ylabel('cantidad de usuarios')"
   ]
  },
  {
   "cell_type": "code",
   "execution_count": 44,
   "metadata": {},
   "outputs": [
    {
     "data": {
      "text/plain": [
       "count    12692.000000\n",
       "mean       268.013158\n",
       "std        542.269598\n",
       "min          1.000000\n",
       "25%         33.000000\n",
       "50%        100.000000\n",
       "75%        269.250000\n",
       "max       9932.000000\n",
       "Name: idaviso, dtype: float64"
      ]
     },
     "execution_count": 44,
     "metadata": {},
     "output_type": "execute_result"
    }
   ],
   "source": [
    "pos_por_aviso = postulaciones['idaviso'].value_counts()\n",
    "pos_por_aviso.describe()"
   ]
  },
  {
   "cell_type": "code",
   "execution_count": 45,
   "metadata": {},
   "outputs": [
    {
     "data": {
      "text/plain": [
       "Text(0,0.5,'cantidad de avisos')"
      ]
     },
     "execution_count": 45,
     "metadata": {},
     "output_type": "execute_result"
    },
    {
     "data": {
      "image/png": "[encoded data removed]",
      "text/plain": [
       "<matplotlib.figure.Figure at 0x7fdea3e37c88>"
      ]
     },
     "metadata": {},
     "output_type": "display_data"
    }
   ],
   "source": [
    "g = pos_por_aviso.hist(bins=100)\n",
    "g.set_title('Cantidad de avisos que reciben postulaciones')\n",
    "g.set_xlabel('cantidad de postulaciones')\n",
    "g.set_ylabel('cantidad de avisos')"
   ]
  },
  {
   "cell_type": "markdown",
   "metadata": {},
   "source": [
    "De igual manera, muy poca cantidad de avisos reciben varios miles de postulaciones más que el resto."
   ]
  },
  {
   "cell_type": "code",
   "execution_count": 46,
   "metadata": {},
   "outputs": [
    {
     "data": {
      "text/plain": [
       "Text(0,0.5,'cantidad de avisos')"
      ]
     },
     "execution_count": 46,
     "metadata": {},
     "output_type": "execute_result"
    },
    {
     "data": {
      "image/png": "[encoded data removed]",
      "text/plain": [
       "<matplotlib.figure.Figure at 0x7fdea3ce9978>"
      ]
     },
     "metadata": {},
     "output_type": "display_data"
    }
   ],
   "source": [
    "pos_por_aviso_filt = pos_por_aviso[pos_por_aviso.values < 500]\n",
    "g = pos_por_aviso_filt.hist(bins=49)\n",
    "g.set_title('Cantidad de avisos que reciben postulaciones')\n",
    "g.set_xlabel('cantidad de postulaciones')\n",
    "g.set_ylabel('cantidad de avisos')"
   ]
  },
  {
   "cell_type": "code",
   "execution_count": 47,
   "metadata": {},
   "outputs": [
    {
     "data": {
      "text/plain": [
       "2    2125425\n",
       "1    1276198\n",
       "Name: fechapostulacion, dtype: int64"
      ]
     },
     "execution_count": 47,
     "metadata": {},
     "output_type": "execute_result"
    }
   ],
   "source": [
    "postulaciones['fechapostulacion'].dt.month.value_counts()"
   ]
  },
  {
   "cell_type": "code",
   "execution_count": 48,
   "metadata": {},
   "outputs": [
    {
     "data": {
      "text/plain": [
       "Text(0,0.5,'Cantidad de postulaciones')"
      ]
     },
     "execution_count": 48,
     "metadata": {},
     "output_type": "execute_result"
    },
    {
     "data": {
      "image/png": "[encoded data removed]",
      "text/plain": [
       "<matplotlib.figure.Figure at 0x7fdea3da2588>"
      ]
     },
     "metadata": {},
     "output_type": "display_data"
    }
   ],
   "source": [
    "horarios = postulaciones['fechapostulacion'].dt.hour.value_counts().sort_index()\n",
    "g = horarios.plot(xticks= range(0,24))\n",
    "g.set_title('Cantidad de portulaciones por horario')\n",
    "g.set_xlabel('Horario')\n",
    "g.set_ylabel('Cantidad de postulaciones')"
   ]
  },
  {
   "cell_type": "code",
   "execution_count": 49,
   "metadata": {},
   "outputs": [
    {
     "data": {
      "text/plain": [
       "[Text(0,0,'Lunes'),\n",
       " Text(0,0,'Martes'),\n",
       " Text(0,0,'Miercoles'),\n",
       " Text(0,0,'Jueves'),\n",
       " Text(0,0,'Viernes'),\n",
       " Text(0,0,'Sabado'),\n",
       " Text(0,0,'Domingo')]"
      ]
     },
     "execution_count": 49,
     "metadata": {},
     "output_type": "execute_result"
    },
    {
     "data": {
      "image/png": "[encoded data removed]",
      "text/plain": [
       "<matplotlib.figure.Figure at 0x7fdea3bf6518>"
      ]
     },
     "metadata": {},
     "output_type": "display_data"
    }
   ],
   "source": [
    "weekdays = postulaciones['fechapostulacion'].map(lambda x: x.weekday())\n",
    "weekdays_count = weekdays.value_counts()\n",
    "g = sns.barplot(x= weekdays_count.values, y= weekdays_count.index, orient ='h')\n",
    "g.set_title('Postulaciones por día de la semana')\n",
    "g.set_xlabel('cantidad de postulaciones')\n",
    "g.set_ylabel('día de la semana')\n",
    "g.set_yticklabels(('Lunes', 'Martes', 'Miercoles', 'Jueves', 'Viernes', 'Sabado','Domingo'))"
   ]
  },
  {
   "cell_type": "code",
   "execution_count": 50,
   "metadata": {},
   "outputs": [
    {
     "data": {
      "text/plain": [
       "Text(0,0.5,'Cantidad de postulaciones')"
      ]
     },
     "execution_count": 50,
     "metadata": {},
     "output_type": "execute_result"
    },
    {
     "data": {
      "image/png": "[encoded data removed]",
      "text/plain": [
       "<matplotlib.figure.Figure at 0x7fdea5ea83c8>"
      ]
     },
     "metadata": {},
     "output_type": "display_data"
    }
   ],
   "source": [
    "sabados = (weekdays.values == 5)\n",
    "horarios_sabados = (postulaciones[sabados])['fechapostulacion'].dt.hour.value_counts().sort_index()\n",
    "g = horarios_sabados.plot(xticks= range(0,24))\n",
    "g.set_title('Cantidad de portulaciones por horario un Sabado')\n",
    "g.set_xlabel('Horario')\n",
    "g.set_ylabel('Cantidad de postulaciones')"
   ]
  },
  {
   "cell_type": "markdown",
   "metadata": {},
   "source": [
    "Como vemos, un día como un sabado responde al mismo patron de postulaciones por horario que el resto de los dias."
   ]
  },
  {
   "cell_type": "code",
   "execution_count": 51,
   "metadata": {},
   "outputs": [
    {
     "data": {
      "text/plain": [
       "Text(0,0.5,'Cantidad de postulaciones')"
      ]
     },
     "execution_count": 51,
     "metadata": {},
     "output_type": "execute_result"
    },
    {
     "data": {
      "image/png": "[encoded data removed]",
      "text/plain": [
       "<matplotlib.figure.Figure at 0x7fdea3b1d0f0>"
      ]
     },
     "metadata": {},
     "output_type": "display_data"
    }
   ],
   "source": [
    "domingos = (weekdays.values == 6)\n",
    "horarios_domingos = (postulaciones[domingos])['fechapostulacion'].dt.hour.value_counts().sort_index()\n",
    "g = horarios_domingos.plot(xticks= range(0,24))\n",
    "g.set_title('Cantidad de portulaciones por horario un Domingo')\n",
    "g.set_xlabel('Horario')\n",
    "g.set_ylabel('Cantidad de postulaciones')"
   ]
  },
  {
   "cell_type": "markdown",
   "metadata": {},
   "source": [
    "Mientras que los domingos tienen un patrón distinto, esperable si consideramos que el estilo de vida de gente varia drasticamente estos dias."
   ]
  },
  {
   "cell_type": "markdown",
   "metadata": {},
   "source": [
    "#### avisos_online"
   ]
  },
  {
   "cell_type": "code",
   "execution_count": 52,
   "metadata": {},
   "outputs": [
    {
     "data": {
      "text/html": [
       "<div>\n",
       "<style scoped>\n",
       "    .dataframe tbody tr th:only-of-type {\n",
       "        vertical-align: middle;\n",
       "    }\n",
       "\n",
       "    .dataframe tbody tr th {\n",
       "        vertical-align: top;\n",
       "    }\n",
       "\n",
       "    .dataframe thead th {\n",
       "        text-align: right;\n",
       "    }\n",
       "</style>\n",
       "<table border=\"1\" class=\"dataframe\">\n",
       "  <thead>\n",
       "    <tr style=\"text-align: right;\">\n",
       "      <th></th>\n",
       "      <th>idaviso</th>\n",
       "    </tr>\n",
       "  </thead>\n",
       "  <tbody>\n",
       "    <tr>\n",
       "      <th>0</th>\n",
       "      <td>1112355872</td>\n",
       "    </tr>\n",
       "    <tr>\n",
       "      <th>1</th>\n",
       "      <td>1112335374</td>\n",
       "    </tr>\n",
       "    <tr>\n",
       "      <th>2</th>\n",
       "      <td>1112374842</td>\n",
       "    </tr>\n",
       "    <tr>\n",
       "      <th>3</th>\n",
       "      <td>1111984070</td>\n",
       "    </tr>\n",
       "    <tr>\n",
       "      <th>4</th>\n",
       "      <td>1111822480</td>\n",
       "    </tr>\n",
       "  </tbody>\n",
       "</table>\n",
       "</div>"
      ],
      "text/plain": [
       "      idaviso\n",
       "0  1112355872\n",
       "1  1112335374\n",
       "2  1112374842\n",
       "3  1111984070\n",
       "4  1111822480"
      ]
     },
     "execution_count": 52,
     "metadata": {},
     "output_type": "execute_result"
    }
   ],
   "source": [
    "avisos_online.head(5)"
   ]
  },
  {
   "cell_type": "code",
   "execution_count": 184,
   "metadata": {},
   "outputs": [
    {
     "data": {
      "text/plain": [
       "(5028, 1)"
      ]
     },
     "execution_count": 184,
     "metadata": {},
     "output_type": "execute_result"
    }
   ],
   "source": [
    "avisos_online.shape"
   ]
  },
  {
   "cell_type": "markdown",
   "metadata": {},
   "source": [
    "Aquí podemos ver los avisos online al 8 de marzo de 2018"
   ]
  },
  {
   "cell_type": "markdown",
   "metadata": {},
   "source": [
    "#### avisos_detalle"
   ]
  },
  {
   "cell_type": "code",
   "execution_count": 89,
   "metadata": {},
   "outputs": [
    {
     "data": {
      "text/html": [
       "<div>\n",
       "<style scoped>\n",
       "    .dataframe tbody tr th:only-of-type {\n",
       "        vertical-align: middle;\n",
       "    }\n",
       "\n",
       "    .dataframe tbody tr th {\n",
       "        vertical-align: top;\n",
       "    }\n",
       "\n",
       "    .dataframe thead th {\n",
       "        text-align: right;\n",
       "    }\n",
       "</style>\n",
       "<table border=\"1\" class=\"dataframe\">\n",
       "  <thead>\n",
       "    <tr style=\"text-align: right;\">\n",
       "      <th></th>\n",
       "      <th>idaviso</th>\n",
       "      <th>idpais</th>\n",
       "      <th>titulo</th>\n",
       "      <th>descripcion</th>\n",
       "      <th>nombre_zona</th>\n",
       "      <th>ciudad</th>\n",
       "      <th>mapacalle</th>\n",
       "      <th>tipo_de_trabajo</th>\n",
       "      <th>nivel_laboral</th>\n",
       "      <th>nombre_area</th>\n",
       "      <th>denominacion_empresa</th>\n",
       "    </tr>\n",
       "  </thead>\n",
       "  <tbody>\n",
       "    <tr>\n",
       "      <th>0</th>\n",
       "      <td>8725750</td>\n",
       "      <td>1</td>\n",
       "      <td>VENDEDOR/A PROVINCIA DE SANTA FE</td>\n",
       "      <td>&lt;p&gt;&lt;strong&gt;&lt;strong&gt;Empresa:&lt;/strong&gt;&lt;/strong&gt; ...</td>\n",
       "      <td>Gran Buenos Aires</td>\n",
       "      <td>NaN</td>\n",
       "      <td>NaN</td>\n",
       "      <td>Full-time</td>\n",
       "      <td>Senior / Semi-Senior</td>\n",
       "      <td>Comercial</td>\n",
       "      <td>VENTOR</td>\n",
       "    </tr>\n",
       "    <tr>\n",
       "      <th>1</th>\n",
       "      <td>17903700</td>\n",
       "      <td>1</td>\n",
       "      <td>Enfermeras</td>\n",
       "      <td>&lt;p&gt;Solicitamos para importante cadena de farma...</td>\n",
       "      <td>Gran Buenos Aires</td>\n",
       "      <td>NaN</td>\n",
       "      <td>NaN</td>\n",
       "      <td>Full-time</td>\n",
       "      <td>Senior / Semi-Senior</td>\n",
       "      <td>Salud</td>\n",
       "      <td>Farmacias Central Oeste</td>\n",
       "    </tr>\n",
       "    <tr>\n",
       "      <th>2</th>\n",
       "      <td>1000150677</td>\n",
       "      <td>1</td>\n",
       "      <td>Chofer de taxi</td>\n",
       "      <td>&lt;p&gt;TE GUSTA MANEJAR? QUERES GANAR PLATA HACIEN...</td>\n",
       "      <td>Capital Federal</td>\n",
       "      <td>NaN</td>\n",
       "      <td>Empedrado 2336</td>\n",
       "      <td>Full-time</td>\n",
       "      <td>Senior / Semi-Senior</td>\n",
       "      <td>Transporte</td>\n",
       "      <td>FAMITAX SRL</td>\n",
       "    </tr>\n",
       "    <tr>\n",
       "      <th>3</th>\n",
       "      <td>1000610287</td>\n",
       "      <td>1</td>\n",
       "      <td>CHOFER DE CAMIONETA BAHIA BLANCA - PUNTA ALTA</td>\n",
       "      <td>&lt;p&gt;&lt;strong&gt;Somos una empresa multinacional que...</td>\n",
       "      <td>Gran Buenos Aires</td>\n",
       "      <td>NaN</td>\n",
       "      <td>NaN</td>\n",
       "      <td>Full-time</td>\n",
       "      <td>Senior / Semi-Senior</td>\n",
       "      <td>Transporte</td>\n",
       "      <td>Wurth Argentina S.A</td>\n",
       "    </tr>\n",
       "    <tr>\n",
       "      <th>4</th>\n",
       "      <td>1000872556</td>\n",
       "      <td>1</td>\n",
       "      <td>Operarios de Planta - Rubro Electrodomésticos</td>\n",
       "      <td>&lt;p&gt;&lt;strong&gt;OPERARIOS DE PLANTA&lt;/strong&gt;&lt;/p&gt;&lt;p&gt;...</td>\n",
       "      <td>Gran Buenos Aires</td>\n",
       "      <td>NaN</td>\n",
       "      <td>NaN</td>\n",
       "      <td>Full-time</td>\n",
       "      <td>Senior / Semi-Senior</td>\n",
       "      <td>Producción</td>\n",
       "      <td>ELECTRO OUTLET SRL</td>\n",
       "    </tr>\n",
       "  </tbody>\n",
       "</table>\n",
       "</div>"
      ],
      "text/plain": [
       "      idaviso  idpais                                         titulo  \\\n",
       "0     8725750       1               VENDEDOR/A PROVINCIA DE SANTA FE   \n",
       "1    17903700       1                                     Enfermeras   \n",
       "2  1000150677       1                                 Chofer de taxi   \n",
       "3  1000610287       1  CHOFER DE CAMIONETA BAHIA BLANCA - PUNTA ALTA   \n",
       "4  1000872556       1  Operarios de Planta - Rubro Electrodomésticos   \n",
       "\n",
       "                                         descripcion        nombre_zona  \\\n",
       "0  <p><strong><strong>Empresa:</strong></strong> ...  Gran Buenos Aires   \n",
       "1  <p>Solicitamos para importante cadena de farma...  Gran Buenos Aires   \n",
       "2  <p>TE GUSTA MANEJAR? QUERES GANAR PLATA HACIEN...    Capital Federal   \n",
       "3  <p><strong>Somos una empresa multinacional que...  Gran Buenos Aires   \n",
       "4  <p><strong>OPERARIOS DE PLANTA</strong></p><p>...  Gran Buenos Aires   \n",
       "\n",
       "  ciudad       mapacalle tipo_de_trabajo         nivel_laboral nombre_area  \\\n",
       "0    NaN             NaN       Full-time  Senior / Semi-Senior   Comercial   \n",
       "1    NaN             NaN       Full-time  Senior / Semi-Senior       Salud   \n",
       "2    NaN  Empedrado 2336       Full-time  Senior / Semi-Senior  Transporte   \n",
       "3    NaN             NaN       Full-time  Senior / Semi-Senior  Transporte   \n",
       "4    NaN             NaN       Full-time  Senior / Semi-Senior  Producción   \n",
       "\n",
       "      denominacion_empresa  \n",
       "0                   VENTOR  \n",
       "1  Farmacias Central Oeste  \n",
       "2              FAMITAX SRL  \n",
       "3      Wurth Argentina S.A  \n",
       "4       ELECTRO OUTLET SRL  "
      ]
     },
     "execution_count": 89,
     "metadata": {},
     "output_type": "execute_result"
    }
   ],
   "source": [
    "avisos_detalle.head(5)"
   ]
  },
  {
   "cell_type": "code",
   "execution_count": 90,
   "metadata": {},
   "outputs": [
    {
     "data": {
      "text/plain": [
       "(13534, 11)"
      ]
     },
     "execution_count": 90,
     "metadata": {},
     "output_type": "execute_result"
    }
   ],
   "source": [
    "avisos_detalle.shape"
   ]
  },
  {
   "cell_type": "code",
   "execution_count": 91,
   "metadata": {},
   "outputs": [
    {
     "name": "stdout",
     "output_type": "stream",
     "text": [
      "<class 'pandas.core.frame.DataFrame'>\n",
      "RangeIndex: 13534 entries, 0 to 13533\n",
      "Data columns (total 11 columns):\n",
      "idaviso                 13534 non-null int64\n",
      "idpais                  13534 non-null int64\n",
      "titulo                  13534 non-null object\n",
      "descripcion             13534 non-null object\n",
      "nombre_zona             13534 non-null object\n",
      "ciudad                  47 non-null object\n",
      "mapacalle               872 non-null object\n",
      "tipo_de_trabajo         13534 non-null object\n",
      "nivel_laboral           13534 non-null object\n",
      "nombre_area             13534 non-null object\n",
      "denominacion_empresa    13529 non-null object\n",
      "dtypes: int64(2), object(9)\n",
      "memory usage: 1.1+ MB\n"
     ]
    }
   ],
   "source": [
    "avisos_detalle.info()"
   ]
  },
  {
   "cell_type": "code",
   "execution_count": 6,
   "metadata": {},
   "outputs": [],
   "source": [
    "#ESTO NO LO USO XQ ME JODE AL USAR LOC\n",
    "# Columnas que se detecto que son variables categoricas\n",
    "#avisos_detalle['nombre_zona'] = avisos_detalle['nombre_zona'].astype('category')\n",
    "#avisos_detalle['tipo_de_trabajo'] = avisos_detalle['tipo_de_trabajo'].astype('category')\n",
    "#avisos_detalle['nivel_laboral'] = avisos_detalle['nivel_laboral'].astype('category')\n",
    "#avisos_detalle['nombre_area'] = avisos_detalle['nombre_area'].astype('category')                                                                             "
   ]
  },
  {
   "cell_type": "code",
   "execution_count": 92,
   "metadata": {},
   "outputs": [
    {
     "data": {
      "text/plain": [
       "Gran Buenos Aires              12654\n",
       "Capital Federal                  876\n",
       "GBA Oeste                          2\n",
       "Buenos Aires (fuera de GBA)        2\n",
       "Name: nombre_zona, dtype: int64"
      ]
     },
     "execution_count": 92,
     "metadata": {},
     "output_type": "execute_result"
    }
   ],
   "source": [
    "avisos_detalle[\"nombre_zona\"].value_counts()"
   ]
  },
  {
   "cell_type": "code",
   "execution_count": 93,
   "metadata": {},
   "outputs": [],
   "source": [
    "caba=((avisos_detalle.loc[avisos_detalle['nombre_zona'] == \"Capital Federal\"  ])[\"nombre_area\"]).value_counts().head(5)\n",
    "gba =((avisos_detalle.loc[avisos_detalle['nombre_zona'] == \"Gran Buenos Aires\"])[\"nombre_area\"]).value_counts().head(5)"
   ]
  },
  {
   "cell_type": "code",
   "execution_count": 96,
   "metadata": {},
   "outputs": [
    {
     "data": {
      "text/plain": [
       "Text(0,0.5,'Cantidad de avisos')"
      ]
     },
     "execution_count": 96,
     "metadata": {},
     "output_type": "execute_result"
    },
    {
     "data": {
      "image/png": "[encoded data removed]",
      "text/plain": [
       "<matplotlib.figure.Figure at 0x2570f6ec7b8>"
      ]
     },
     "metadata": {},
     "output_type": "display_data"
    }
   ],
   "source": [
    "g = sns.barplot(y=gba.values, x=gba.index, orient='v')\n",
    "g.set_title('Distibución por areas en GBA')\n",
    "g.set_xlabel('Area')\n",
    "g.set_ylabel('Cantidad de avisos')"
   ]
  },
  {
   "cell_type": "code",
   "execution_count": 97,
   "metadata": {},
   "outputs": [
    {
     "data": {
      "text/plain": [
       "Text(0,0.5,'Cantidad de avisos')"
      ]
     },
     "execution_count": 97,
     "metadata": {},
     "output_type": "execute_result"
    },
    {
     "data": {
      "image/png": "[encoded data removed]",
      "text/plain": [
       "<matplotlib.figure.Figure at 0x2570f8c9be0>"
      ]
     },
     "metadata": {},
     "output_type": "display_data"
    }
   ],
   "source": [
    "g = sns.barplot(y=caba.values, x=caba.index, orient='v')\n",
    "g.set_title('Distibución por areas en CABA')\n",
    "g.set_xlabel('Area')\n",
    "g.set_ylabel('Cantidad de avisos')"
   ]
  },
  {
   "cell_type": "markdown",
   "metadata": {},
   "source": [
    "Vemos que las areas con más publicaciones coinciden y, apesar de que la cantidad difieren mucho, viendo los gráficos podemos que la relación entre las areas es similar en ambas zonas."
   ]
  },
  {
   "cell_type": "code",
   "execution_count": 108,
   "metadata": {},
   "outputs": [
    {
     "data": {
      "text/plain": [
       "count    2592.000000\n",
       "mean        5.219522\n",
       "std        22.328432\n",
       "min         1.000000\n",
       "25%         1.000000\n",
       "50%         1.000000\n",
       "75%         3.000000\n",
       "max       562.000000\n",
       "Name: denominacion_empresa, dtype: float64"
      ]
     },
     "execution_count": 108,
     "metadata": {},
     "output_type": "execute_result"
    }
   ],
   "source": [
    "avisos_detalle[\"denominacion_empresa\"].value_counts().describe()"
   ]
  },
  {
   "cell_type": "markdown",
   "metadata": {},
   "source": [
    "Observamos que la mayoria de las empresas tiene pocos avisos, mientras que unas pocas son las que tienen gran cantidad de avisos."
   ]
  },
  {
   "cell_type": "code",
   "execution_count": 11,
   "metadata": {},
   "outputs": [
    {
     "data": {
      "text/plain": [
       "Text(0,0.5,'Cantidad de avisos')"
      ]
     },
     "execution_count": 11,
     "metadata": {},
     "output_type": "execute_result"
    },
    {
     "data": {
      "image/png": "[encoded data removed]",
      "text/plain": [
       "<matplotlib.figure.Figure at 0x2acd0f0e4a8>"
      ]
     },
     "metadata": {},
     "output_type": "display_data"
    }
   ],
   "source": [
    "top_5= avisos_detalle[\"denominacion_empresa\"].value_counts()[:5]\n",
    "g = sns.barplot(x=top_5.index, y = top_5.values, orient = 'v')\n",
    "g.set_title('Empresas que más avisos poseen')\n",
    "g.set_xlabel('Empresa')\n",
    "g.set_ylabel('Cantidad de avisos')"
   ]
  },
  {
   "cell_type": "markdown",
   "metadata": {},
   "source": [
    "https://www.randstad.com.ar/\n",
    "https://www.manpowergroup.com.ar/\n",
    "https://www.grupo-gestion.com.ar/\n",
    "http://www.assistem.com.ar/\n",
    "http://www.solutix.com.ar/\n",
    "Detalle bastante peculiar, las empresas que tienen más avisos publicados son justamente empresas que se encargan de las mismas tareas que zonaJobs, enlazar personas con empresas en busca de trabajo. ¿Por qué no utilizan sus propias páginas para buscar sus empleados? ¿O acaso republican sus avisos en otra pagina como zonaJobs?"
   ]
  },
  {
   "cell_type": "code",
   "execution_count": 13,
   "metadata": {},
   "outputs": [
    {
     "data": {
      "text/plain": [
       "[Text(0,0,'Comercial'),\n",
       " Text(0,0,'Ventas'),\n",
       " Text(0,0,'Producción'),\n",
       " Text(0,0,'Administración'),\n",
       " Text(0,0,'Recursos Humanos'),\n",
       " Text(0,0,'Mantenimiento'),\n",
       " Text(0,0,'Logística'),\n",
       " Text(0,0,'Ingeniería  Industrial'),\n",
       " Text(0,0,'Ingeniería  Eléctrica y Electrónica'),\n",
       " Text(0,0,'Atención al Cliente')]"
      ]
     },
     "execution_count": 13,
     "metadata": {},
     "output_type": "execute_result"
    },
    {
     "data": {
      "image/png": "[encoded data removed]",
      "text/plain": [
       "<matplotlib.figure.Figure at 0x2acd37cf9e8>"
      ]
     },
     "metadata": {},
     "output_type": "display_data"
    }
   ],
   "source": [
    "empleos = avisos_detalle[avisos_detalle['denominacion_empresa'] == \"RANDSTAD\"]['nombre_area'].value_counts()[:10]\n",
    "g = sns.barplot(x=empleos.index, y = empleos.values, orient = 'v')\n",
    "g.set_title('Distibución por areas en RANSDTAD')\n",
    "g.set_xlabel('Area')\n",
    "g.set_ylabel('Cantidad de avisos')\n",
    "g.set_xticklabels(g.get_xticklabels(), rotation = 90)"
   ]
  },
  {
   "cell_type": "markdown",
   "metadata": {},
   "source": [
    "Como vemos, los avisos de Randstad son en areas bastante variadas, lo cual nos hace pensar que si es posible que sus avisos sean republicados en zonaJobs."
   ]
  },
  {
   "cell_type": "code",
   "execution_count": 15,
   "metadata": {},
   "outputs": [
    {
     "data": {
      "text/plain": [
       "[Text(0,0,'Full-time'),\n",
       " Text(0,0,'Part-time'),\n",
       " Text(0,0,'Teletrabajo'),\n",
       " Text(0,0,'Pasantia'),\n",
       " Text(0,0,'Por Horas'),\n",
       " Text(0,0,'Temporario'),\n",
       " Text(0,0,'Por Contrato'),\n",
       " Text(0,0,'Fines de Semana'),\n",
       " Text(0,0,'Primer empleo')]"
      ]
     },
     "execution_count": 15,
     "metadata": {},
     "output_type": "execute_result"
    },
    {
     "data": {
      "image/png": "[encoded data removed]",
      "text/plain": [
       "<matplotlib.figure.Figure at 0x2acd390b080>"
      ]
     },
     "metadata": {},
     "output_type": "display_data"
    }
   ],
   "source": [
    "tipo_de_trabajo = avisos_detalle[\"tipo_de_trabajo\"].value_counts()\n",
    "g = sns.barplot(x=tipo_de_trabajo.index, y = tipo_de_trabajo.values, orient = 'v')\n",
    "g.set_title('Distibución por tipo de trabajo')\n",
    "g.set_xlabel('Tipo de trabajo')\n",
    "g.set_ylabel('Cantidad de avisos')\n",
    "g.set_xticklabels(g.get_xticklabels(), rotation = 90)"
   ]
  },
  {
   "cell_type": "code",
   "execution_count": 59,
   "metadata": {},
   "outputs": [
    {
     "data": {
      "text/plain": [
       "Full-time          12339\n",
       "Part-time            863\n",
       "Teletrabajo          110\n",
       "Por Horas             63\n",
       "Pasantia              63\n",
       "Temporario            42\n",
       "Por Contrato          37\n",
       "Fines de Semana       14\n",
       "Primer empleo          3\n",
       "Name: tipo_de_trabajo, dtype: int64"
      ]
     },
     "execution_count": 59,
     "metadata": {},
     "output_type": "execute_result"
    }
   ],
   "source": [
    "tipo_de_trabajo"
   ]
  },
  {
   "cell_type": "code",
   "execution_count": 66,
   "metadata": {},
   "outputs": [
    {
     "data": {
      "text/plain": [
       "Senior / Semi-Senior                    9407\n",
       "Junior                                  2216\n",
       "Otro                                     921\n",
       "Jefe / Supervisor / Responsable          809\n",
       "Gerencia / Alta Gerencia / Dirección     181\n",
       "Name: nivel_laboral, dtype: int64"
      ]
     },
     "execution_count": 66,
     "metadata": {},
     "output_type": "execute_result"
    }
   ],
   "source": [
    "avisos_detalle[\"nivel_laboral\"].value_counts()"
   ]
  },
  {
   "cell_type": "markdown",
   "metadata": {},
   "source": [
    "Aunque los datos de nivel laboral no son muy precisos ya que aparentemente es un campo obligatorio a la hora de generar un aviso y por eso encontramos caso como Chofer de taxi Senior cuando no tiene ningun sentido."
   ]
  },
  {
   "cell_type": "markdown",
   "metadata": {},
   "source": [
    "### Edad vs nivel educativo"
   ]
  },
  {
   "cell_type": "code",
   "execution_count": 24,
   "metadata": {},
   "outputs": [
    {
     "data": {
      "text/html": [
       "<div>\n",
       "<style scoped>\n",
       "    .dataframe tbody tr th:only-of-type {\n",
       "        vertical-align: middle;\n",
       "    }\n",
       "\n",
       "    .dataframe tbody tr th {\n",
       "        vertical-align: top;\n",
       "    }\n",
       "\n",
       "    .dataframe thead th {\n",
       "        text-align: right;\n",
       "    }\n",
       "</style>\n",
       "<table border=\"1\" class=\"dataframe\">\n",
       "  <thead>\n",
       "    <tr style=\"text-align: right;\">\n",
       "      <th>nombre</th>\n",
       "      <th>Doctorado</th>\n",
       "      <th>Master</th>\n",
       "      <th>Otro</th>\n",
       "      <th>Posgrado</th>\n",
       "      <th>Secundario</th>\n",
       "      <th>Terciario/Técnico</th>\n",
       "      <th>Universitario</th>\n",
       "    </tr>\n",
       "    <tr>\n",
       "      <th>idpostulante</th>\n",
       "      <th></th>\n",
       "      <th></th>\n",
       "      <th></th>\n",
       "      <th></th>\n",
       "      <th></th>\n",
       "      <th></th>\n",
       "      <th></th>\n",
       "    </tr>\n",
       "  </thead>\n",
       "  <tbody>\n",
       "    <tr>\n",
       "      <th>0z5VvGv</th>\n",
       "      <td>0</td>\n",
       "      <td>0</td>\n",
       "      <td>0</td>\n",
       "      <td>0</td>\n",
       "      <td>1</td>\n",
       "      <td>0</td>\n",
       "      <td>0</td>\n",
       "    </tr>\n",
       "    <tr>\n",
       "      <th>0zB026d</th>\n",
       "      <td>0</td>\n",
       "      <td>0</td>\n",
       "      <td>0</td>\n",
       "      <td>0</td>\n",
       "      <td>1</td>\n",
       "      <td>1</td>\n",
       "      <td>0</td>\n",
       "    </tr>\n",
       "    <tr>\n",
       "      <th>0zB03O9</th>\n",
       "      <td>0</td>\n",
       "      <td>0</td>\n",
       "      <td>0</td>\n",
       "      <td>0</td>\n",
       "      <td>1</td>\n",
       "      <td>0</td>\n",
       "      <td>0</td>\n",
       "    </tr>\n",
       "    <tr>\n",
       "      <th>0zB08lq</th>\n",
       "      <td>0</td>\n",
       "      <td>0</td>\n",
       "      <td>0</td>\n",
       "      <td>0</td>\n",
       "      <td>1</td>\n",
       "      <td>0</td>\n",
       "      <td>0</td>\n",
       "    </tr>\n",
       "    <tr>\n",
       "      <th>0zB0NWY</th>\n",
       "      <td>0</td>\n",
       "      <td>0</td>\n",
       "      <td>0</td>\n",
       "      <td>0</td>\n",
       "      <td>0</td>\n",
       "      <td>0</td>\n",
       "      <td>1</td>\n",
       "    </tr>\n",
       "  </tbody>\n",
       "</table>\n",
       "</div>"
      ],
      "text/plain": [
       "nombre        Doctorado  Master  Otro  Posgrado  Secundario  \\\n",
       "idpostulante                                                  \n",
       "0z5VvGv               0       0     0         0           1   \n",
       "0zB026d               0       0     0         0           1   \n",
       "0zB03O9               0       0     0         0           1   \n",
       "0zB08lq               0       0     0         0           1   \n",
       "0zB0NWY               0       0     0         0           0   \n",
       "\n",
       "nombre        Terciario/Técnico  Universitario  \n",
       "idpostulante                                    \n",
       "0z5VvGv                       0              0  \n",
       "0zB026d                       1              0  \n",
       "0zB03O9                       0              0  \n",
       "0zB08lq                       0              0  \n",
       "0zB0NWY                       0              1  "
      ]
     },
     "execution_count": 24,
     "metadata": {},
     "output_type": "execute_result"
    }
   ],
   "source": [
    "postulantes_graduados = postulantes_educacion[postulantes_educacion['estado'] == 'Graduado']\n",
    "postulantes_graduados = pd.crosstab(postulantes_graduados.idpostulante, postulantes_graduados.nombre)\n",
    "postulantes_graduados.head()"
   ]
  },
  {
   "cell_type": "code",
   "execution_count": 25,
   "metadata": {},
   "outputs": [],
   "source": [
    "postulantes_graduados = postulantes_graduados.reset_index()"
   ]
  },
  {
   "cell_type": "code",
   "execution_count": 26,
   "metadata": {},
   "outputs": [
    {
     "data": {
      "text/html": [
       "<div>\n",
       "<style scoped>\n",
       "    .dataframe tbody tr th:only-of-type {\n",
       "        vertical-align: middle;\n",
       "    }\n",
       "\n",
       "    .dataframe tbody tr th {\n",
       "        vertical-align: top;\n",
       "    }\n",
       "\n",
       "    .dataframe thead th {\n",
       "        text-align: right;\n",
       "    }\n",
       "</style>\n",
       "<table border=\"1\" class=\"dataframe\">\n",
       "  <thead>\n",
       "    <tr style=\"text-align: right;\">\n",
       "      <th></th>\n",
       "      <th>idpostulante</th>\n",
       "      <th>Doctorado</th>\n",
       "      <th>Master</th>\n",
       "      <th>Otro</th>\n",
       "      <th>Posgrado</th>\n",
       "      <th>Secundario</th>\n",
       "      <th>Terciario/Técnico</th>\n",
       "      <th>Universitario</th>\n",
       "      <th>edad</th>\n",
       "    </tr>\n",
       "  </thead>\n",
       "  <tbody>\n",
       "    <tr>\n",
       "      <th>0</th>\n",
       "      <td>0z5VvGv</td>\n",
       "      <td>0</td>\n",
       "      <td>0</td>\n",
       "      <td>0</td>\n",
       "      <td>0</td>\n",
       "      <td>1</td>\n",
       "      <td>0</td>\n",
       "      <td>0</td>\n",
       "      <td>30</td>\n",
       "    </tr>\n",
       "    <tr>\n",
       "      <th>1</th>\n",
       "      <td>0zB026d</td>\n",
       "      <td>0</td>\n",
       "      <td>0</td>\n",
       "      <td>0</td>\n",
       "      <td>0</td>\n",
       "      <td>1</td>\n",
       "      <td>1</td>\n",
       "      <td>0</td>\n",
       "      <td>40</td>\n",
       "    </tr>\n",
       "    <tr>\n",
       "      <th>2</th>\n",
       "      <td>0zB03O9</td>\n",
       "      <td>0</td>\n",
       "      <td>0</td>\n",
       "      <td>0</td>\n",
       "      <td>0</td>\n",
       "      <td>1</td>\n",
       "      <td>0</td>\n",
       "      <td>0</td>\n",
       "      <td>30</td>\n",
       "    </tr>\n",
       "    <tr>\n",
       "      <th>3</th>\n",
       "      <td>0zB08lq</td>\n",
       "      <td>0</td>\n",
       "      <td>0</td>\n",
       "      <td>0</td>\n",
       "      <td>0</td>\n",
       "      <td>1</td>\n",
       "      <td>0</td>\n",
       "      <td>0</td>\n",
       "      <td>45</td>\n",
       "    </tr>\n",
       "    <tr>\n",
       "      <th>4</th>\n",
       "      <td>0zB0NWY</td>\n",
       "      <td>0</td>\n",
       "      <td>0</td>\n",
       "      <td>0</td>\n",
       "      <td>0</td>\n",
       "      <td>0</td>\n",
       "      <td>0</td>\n",
       "      <td>1</td>\n",
       "      <td>30</td>\n",
       "    </tr>\n",
       "  </tbody>\n",
       "</table>\n",
       "</div>"
      ],
      "text/plain": [
       "  idpostulante  Doctorado  Master  Otro  Posgrado  Secundario  \\\n",
       "0      0z5VvGv          0       0     0         0           1   \n",
       "1      0zB026d          0       0     0         0           1   \n",
       "2      0zB03O9          0       0     0         0           1   \n",
       "3      0zB08lq          0       0     0         0           1   \n",
       "4      0zB0NWY          0       0     0         0           0   \n",
       "\n",
       "   Terciario/Técnico  Universitario  edad  \n",
       "0                  0              0    30  \n",
       "1                  1              0    40  \n",
       "2                  0              0    30  \n",
       "3                  0              0    45  \n",
       "4                  0              1    30  "
      ]
     },
     "execution_count": 26,
     "metadata": {},
     "output_type": "execute_result"
    }
   ],
   "source": [
    "postulantes_graduados_edad = pd.merge(postulantes_graduados, pos_gen_edad[['idpostulante','edad']], on='idpostulante', how='inner')\n",
    "postulantes_graduados_edad.head()"
   ]
  },
  {
   "cell_type": "code",
   "execution_count": 27,
   "metadata": {},
   "outputs": [
    {
     "data": {
      "text/html": [
       "<div>\n",
       "<style scoped>\n",
       "    .dataframe tbody tr th:only-of-type {\n",
       "        vertical-align: middle;\n",
       "    }\n",
       "\n",
       "    .dataframe tbody tr th {\n",
       "        vertical-align: top;\n",
       "    }\n",
       "\n",
       "    .dataframe thead th {\n",
       "        text-align: right;\n",
       "    }\n",
       "</style>\n",
       "<table border=\"1\" class=\"dataframe\">\n",
       "  <thead>\n",
       "    <tr style=\"text-align: right;\">\n",
       "      <th></th>\n",
       "      <th>Doctorado</th>\n",
       "      <th>Master</th>\n",
       "      <th>Otro</th>\n",
       "      <th>Posgrado</th>\n",
       "      <th>Secundario</th>\n",
       "      <th>Terciario/Técnico</th>\n",
       "      <th>Universitario</th>\n",
       "    </tr>\n",
       "    <tr>\n",
       "      <th>edad</th>\n",
       "      <th></th>\n",
       "      <th></th>\n",
       "      <th></th>\n",
       "      <th></th>\n",
       "      <th></th>\n",
       "      <th></th>\n",
       "      <th></th>\n",
       "    </tr>\n",
       "  </thead>\n",
       "  <tbody>\n",
       "    <tr>\n",
       "      <th>17</th>\n",
       "      <td>0</td>\n",
       "      <td>0</td>\n",
       "      <td>3</td>\n",
       "      <td>0</td>\n",
       "      <td>76</td>\n",
       "      <td>1</td>\n",
       "      <td>1</td>\n",
       "    </tr>\n",
       "    <tr>\n",
       "      <th>18</th>\n",
       "      <td>1</td>\n",
       "      <td>0</td>\n",
       "      <td>109</td>\n",
       "      <td>5</td>\n",
       "      <td>1743</td>\n",
       "      <td>57</td>\n",
       "      <td>6</td>\n",
       "    </tr>\n",
       "    <tr>\n",
       "      <th>19</th>\n",
       "      <td>0</td>\n",
       "      <td>7</td>\n",
       "      <td>321</td>\n",
       "      <td>5</td>\n",
       "      <td>3812</td>\n",
       "      <td>199</td>\n",
       "      <td>28</td>\n",
       "    </tr>\n",
       "    <tr>\n",
       "      <th>20</th>\n",
       "      <td>4</td>\n",
       "      <td>4</td>\n",
       "      <td>558</td>\n",
       "      <td>23</td>\n",
       "      <td>5236</td>\n",
       "      <td>352</td>\n",
       "      <td>48</td>\n",
       "    </tr>\n",
       "    <tr>\n",
       "      <th>21</th>\n",
       "      <td>0</td>\n",
       "      <td>11</td>\n",
       "      <td>822</td>\n",
       "      <td>32</td>\n",
       "      <td>6410</td>\n",
       "      <td>680</td>\n",
       "      <td>167</td>\n",
       "    </tr>\n",
       "  </tbody>\n",
       "</table>\n",
       "</div>"
      ],
      "text/plain": [
       "      Doctorado  Master  Otro  Posgrado  Secundario  Terciario/Técnico  \\\n",
       "edad                                                                     \n",
       "17            0       0     3         0          76                  1   \n",
       "18            1       0   109         5        1743                 57   \n",
       "19            0       7   321         5        3812                199   \n",
       "20            4       4   558        23        5236                352   \n",
       "21            0      11   822        32        6410                680   \n",
       "\n",
       "      Universitario  \n",
       "edad                 \n",
       "17                1  \n",
       "18                6  \n",
       "19               28  \n",
       "20               48  \n",
       "21              167  "
      ]
     },
     "execution_count": 27,
     "metadata": {},
     "output_type": "execute_result"
    }
   ],
   "source": [
    "graduados_por_edad = postulantes_graduados_edad.groupby('edad').aggregate(sum)\n",
    "graduados_por_edad.head()"
   ]
  },
  {
   "cell_type": "code",
   "execution_count": 28,
   "metadata": {},
   "outputs": [
    {
     "data": {
      "text/plain": [
       "Text(0.5,16,'Nivel educativo')"
      ]
     },
     "execution_count": 28,
     "metadata": {},
     "output_type": "execute_result"
    },
    {
     "data": {
      "image/png": "[encoded data removed]",
      "text/plain": [
       "<matplotlib.figure.Figure at 0x24c0af2ffd0>"
      ]
     },
     "metadata": {},
     "output_type": "display_data"
    }
   ],
   "source": [
    "g = sns.heatmap(graduados_por_edad[1:21], cmap=\"YlGnBu\", linewidths = 1)\n",
    "g.set_title('Cantidad de graduados por edad')\n",
    "g.set_xlabel('Nivel educativo')"
   ]
  },
  {
   "cell_type": "markdown",
   "metadata": {},
   "source": [
    "Repetimos el proceso para los que estan en curso."
   ]
  },
  {
   "cell_type": "code",
   "execution_count": 32,
   "metadata": {},
   "outputs": [
    {
     "data": {
      "text/plain": [
       "Text(0.5,16,'Nivel educativo')"
      ]
     },
     "execution_count": 32,
     "metadata": {},
     "output_type": "execute_result"
    },
    {
     "data": {
      "image/png": "[encoded data removed]",
      "text/plain": [
       "<matplotlib.figure.Figure at 0x24c1c965278>"
      ]
     },
     "metadata": {},
     "output_type": "display_data"
    }
   ],
   "source": [
    "postulantes_en_curso = postulantes_educacion[postulantes_educacion['estado'] == 'En Curso']\n",
    "postulantes_en_curso = pd.crosstab(postulantes_en_curso.idpostulante, postulantes_en_curso.nombre)\n",
    "postulantes_en_curso = postulantes_en_curso.reset_index()\n",
    "postulantes_en_curso_edad = pd.merge(postulantes_en_curso, pos_gen_edad[['idpostulante','edad']], on='idpostulante', how='inner')\n",
    "en_curso_por_edad = postulantes_en_curso_edad.groupby('edad').aggregate(sum)\n",
    "g = sns.heatmap(en_curso_por_edad[1:21], cmap=\"YlGnBu\", linewidths = 1)\n",
    "g.set_title('Cantidad de niveles educativos en curso por edad')\n",
    "g.set_xlabel('Nivel educativo')"
   ]
  },
  {
   "cell_type": "markdown",
   "metadata": {},
   "source": [
    "Hagamos un analisís aparte para solo Universitarios, un nivel educativo muy importante en el ambito laboral"
   ]
  },
  {
   "cell_type": "code",
   "execution_count": 36,
   "metadata": {},
   "outputs": [
    {
     "data": {
      "text/html": [
       "<div>\n",
       "<style scoped>\n",
       "    .dataframe tbody tr th:only-of-type {\n",
       "        vertical-align: middle;\n",
       "    }\n",
       "\n",
       "    .dataframe tbody tr th {\n",
       "        vertical-align: top;\n",
       "    }\n",
       "\n",
       "    .dataframe thead th {\n",
       "        text-align: right;\n",
       "    }\n",
       "</style>\n",
       "<table border=\"1\" class=\"dataframe\">\n",
       "  <thead>\n",
       "    <tr style=\"text-align: right;\">\n",
       "      <th></th>\n",
       "      <th>Abandonado</th>\n",
       "      <th>En Curso</th>\n",
       "      <th>Graduado</th>\n",
       "    </tr>\n",
       "    <tr>\n",
       "      <th>edad</th>\n",
       "      <th></th>\n",
       "      <th></th>\n",
       "      <th></th>\n",
       "    </tr>\n",
       "  </thead>\n",
       "  <tbody>\n",
       "    <tr>\n",
       "      <th>17</th>\n",
       "      <td>0</td>\n",
       "      <td>22</td>\n",
       "      <td>1</td>\n",
       "    </tr>\n",
       "    <tr>\n",
       "      <th>18</th>\n",
       "      <td>18</td>\n",
       "      <td>562</td>\n",
       "      <td>6</td>\n",
       "    </tr>\n",
       "    <tr>\n",
       "      <th>19</th>\n",
       "      <td>93</td>\n",
       "      <td>1947</td>\n",
       "      <td>28</td>\n",
       "    </tr>\n",
       "    <tr>\n",
       "      <th>20</th>\n",
       "      <td>226</td>\n",
       "      <td>2989</td>\n",
       "      <td>48</td>\n",
       "    </tr>\n",
       "    <tr>\n",
       "      <th>21</th>\n",
       "      <td>394</td>\n",
       "      <td>3762</td>\n",
       "      <td>167</td>\n",
       "    </tr>\n",
       "  </tbody>\n",
       "</table>\n",
       "</div>"
      ],
      "text/plain": [
       "      Abandonado  En Curso  Graduado\n",
       "edad                                \n",
       "17             0        22         1\n",
       "18            18       562         6\n",
       "19            93      1947        28\n",
       "20           226      2989        48\n",
       "21           394      3762       167"
      ]
     },
     "execution_count": 36,
     "metadata": {},
     "output_type": "execute_result"
    }
   ],
   "source": [
    "postulantes_universitarios = postulantes_educacion[postulantes_educacion['nombre'] == 'Universitario']\n",
    "postulantes_universitarios = pd.crosstab(postulantes_universitarios.idpostulante, postulantes_universitarios.estado)\n",
    "postulantes_universitarios = postulantes_universitarios.reset_index()\n",
    "postulantes_universitarios = pd.merge(postulantes_universitarios, pos_gen_edad[['idpostulante','edad']], on='idpostulante', how='inner')\n",
    "universitarios_por_edad = postulantes_universitarios.groupby('edad').aggregate(sum)\n",
    "universitarios_por_edad.head()\n"
   ]
  },
  {
   "cell_type": "code",
   "execution_count": 42,
   "metadata": {},
   "outputs": [
    {
     "data": {
      "image/png": "[encoded data removed]",
      "text/plain": [
       "<matplotlib.figure.Figure at 0x24c09894550>"
      ]
     },
     "metadata": {},
     "output_type": "display_data"
    }
   ],
   "source": [
    "edades_abandonado = universitarios_por_edad['Abandonado']\n",
    "edades_en_curso = universitarios_por_edad['En Curso']\n",
    "edades_graduados = universitarios_por_edad['Graduado']\n",
    "plt.figure()\n",
    "edades_abandonado.plot(rot = 90, xticks = range(17,65), label = 'abandonado');\n",
    "edades_en_curso.plot(rot = 90, xticks = range(17,65), label = 'en curso');\n",
    "edades_graduados.plot(rot = 90, xticks = range(17,65), label = 'graduado');\n",
    "plt.title('Edad de universitarios graduados, en curso y abandonado')\n",
    "plt.legend();"
   ]
  },
  {
   "cell_type": "markdown",
   "metadata": {},
   "source": [
    "### Agregando el sexo a este analisis"
   ]
  },
  {
   "cell_type": "code",
   "execution_count": 47,
   "metadata": {},
   "outputs": [],
   "source": [
    "def nombre_to_num(nombre):\n",
    "    dicc = {'Doctorado': 1,'Master':2, 'Otro':3, 'Posgrado':4, 'Secundario':5, 'Terciario/Técnico':6, 'Universitario':7}\n",
    "    return dicc[nombre]"
   ]
  },
  {
   "cell_type": "code",
   "execution_count": 100,
   "metadata": {},
   "outputs": [],
   "source": [
    "postulantes_en_curso = postulantes_educacion[postulantes_educacion['estado'] == 'En Curso']"
   ]
  },
  {
   "cell_type": "code",
   "execution_count": 101,
   "metadata": {},
   "outputs": [
    {
     "data": {
      "text/html": [
       "<div>\n",
       "<style scoped>\n",
       "    .dataframe tbody tr th:only-of-type {\n",
       "        vertical-align: middle;\n",
       "    }\n",
       "\n",
       "    .dataframe tbody tr th {\n",
       "        vertical-align: top;\n",
       "    }\n",
       "\n",
       "    .dataframe thead th {\n",
       "        text-align: right;\n",
       "    }\n",
       "</style>\n",
       "<table border=\"1\" class=\"dataframe\">\n",
       "  <thead>\n",
       "    <tr style=\"text-align: right;\">\n",
       "      <th></th>\n",
       "      <th>idpostulante</th>\n",
       "      <th>nombre</th>\n",
       "      <th>edad</th>\n",
       "      <th>sexo</th>\n",
       "    </tr>\n",
       "  </thead>\n",
       "  <tbody>\n",
       "    <tr>\n",
       "      <th>0</th>\n",
       "      <td>NdJl</td>\n",
       "      <td>Posgrado</td>\n",
       "      <td>48</td>\n",
       "      <td>MASC</td>\n",
       "    </tr>\n",
       "    <tr>\n",
       "      <th>1</th>\n",
       "      <td>8BkL</td>\n",
       "      <td>Universitario</td>\n",
       "      <td>41</td>\n",
       "      <td>FEM</td>\n",
       "    </tr>\n",
       "    <tr>\n",
       "      <th>2</th>\n",
       "      <td>1d2B</td>\n",
       "      <td>Universitario</td>\n",
       "      <td>42</td>\n",
       "      <td>MASC</td>\n",
       "    </tr>\n",
       "    <tr>\n",
       "      <th>3</th>\n",
       "      <td>NPBx</td>\n",
       "      <td>Universitario</td>\n",
       "      <td>37</td>\n",
       "      <td>MASC</td>\n",
       "    </tr>\n",
       "    <tr>\n",
       "      <th>4</th>\n",
       "      <td>NPBx</td>\n",
       "      <td>Master</td>\n",
       "      <td>37</td>\n",
       "      <td>MASC</td>\n",
       "    </tr>\n",
       "  </tbody>\n",
       "</table>\n",
       "</div>"
      ],
      "text/plain": [
       "  idpostulante         nombre  edad  sexo\n",
       "0         NdJl       Posgrado    48  MASC\n",
       "1         8BkL  Universitario    41   FEM\n",
       "2         1d2B  Universitario    42  MASC\n",
       "3         NPBx  Universitario    37  MASC\n",
       "4         NPBx         Master    37  MASC"
      ]
     },
     "execution_count": 101,
     "metadata": {},
     "output_type": "execute_result"
    }
   ],
   "source": [
    "postulantes_en_curso_edad_sexo = pd.merge(postulantes_en_curso[['idpostulante','nombre']], pos_gen_edad[['idpostulante','edad','sexo']], on='idpostulante', how='inner')\n",
    "postulantes_en_curso_edad_sexo.head()"
   ]
  },
  {
   "cell_type": "code",
   "execution_count": 102,
   "metadata": {},
   "outputs": [
    {
     "data": {
      "image/png": "[encoded data removed]",
      "text/plain": [
       "<matplotlib.figure.Figure at 0x24c1c9839e8>"
      ]
     },
     "metadata": {},
     "output_type": "display_data"
    }
   ],
   "source": [
    "mujeres = postulantes_en_curso_edad_sexo[postulantes_en_curso_edad_sexo['sexo'] == 'FEM']\n",
    "hombres = postulantes_en_curso_edad_sexo[postulantes_en_curso_edad_sexo['sexo'] == 'MASC']\n",
    "g = sns.stripplot(x=\"nombre\", y=\"edad\", data=mujeres,alpha=0.1, jitter=0.4, color = 'r')\n",
    "g = sns.stripplot(x=\"nombre\", y=\"edad\", data=hombres,alpha=0.1, jitter=0.4, color = 'b')\n",
    "g.set_title('Nivel universitario en curso por edades para hombres y mujeres');\n",
    "g.set_xlabel('Nivel universitario');\n",
    "g.set_xticklabels(g.get_xticklabels(), rotation = 45);"
   ]
  },
  {
   "cell_type": "code",
   "execution_count": 103,
   "metadata": {},
   "outputs": [
    {
     "data": {
      "image/png": "[encoded data removed]",
      "text/plain": [
       "<matplotlib.figure.Figure at 0x24c0e7fb748>"
      ]
     },
     "metadata": {},
     "output_type": "display_data"
    }
   ],
   "source": [
    "mujeres_universitarias = mujeres[mujeres['nombre'] == 'Universitario']\n",
    "hombres_universitarios = hombres[hombres['nombre'] == 'Universitario']\n",
    "edades_mujeres_universitarias = mujeres_universitarias['edad'].value_counts().sort_index()\n",
    "edades_hombres_universitarios = hombres_universitarios['edad'].value_counts().sort_index()\n",
    "plt.figure()\n",
    "f = edades_mujeres_universitarias.plot(rot = 90, xticks = range(17,65), label = 'mujeres', color='r');\n",
    "f = edades_hombres_universitarios.plot(rot = 90, xticks = range(17,65), label = 'hombres', color = 'b');\n",
    "plt.title('Edad de universitarios en curso segun sexo')\n",
    "f.set_xlabel('edad')\n",
    "f.set_ylabel('cantidad')\n",
    "plt.legend();"
   ]
  },
  {
   "cell_type": "code",
   "execution_count": null,
   "metadata": {},
   "outputs": [],
   "source": []
  }
 ],
 "metadata": {
  "kernelspec": {
   "display_name": "Python 3",
   "language": "python",
   "name": "python3"
  },
  "language_info": {
   "codemirror_mode": {
    "name": "ipython",
    "version": 3
   },
   "file_extension": ".py",
   "mimetype": "text/x-python",
   "name": "python",
   "nbconvert_exporter": "python",
   "pygments_lexer": "ipython3",
   "version": "3.6.4"
  }
 },
 "nbformat": 4,
 "nbformat_minor": 2
}
