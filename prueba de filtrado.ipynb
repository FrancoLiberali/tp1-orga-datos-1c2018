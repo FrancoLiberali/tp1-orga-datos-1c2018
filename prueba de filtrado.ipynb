{
 "cells": [
  {
   "cell_type": "code",
   "execution_count": null,
   "metadata": {},
   "outputs": [],
   "source": [
    "import numpy as np \n",
    "import pandas as pd\n",
    "import datetime as datetime\n",
    "\n",
    "# plots\n",
    "import matplotlib.pyplot as plt\n",
    "import seaborn as sns\n",
    "plt.style.use('default') # haciendo los graficos un poco mas bonitos en matplotlib\n",
    "\n",
    "sns.set(style=\"whitegrid\") # seteando tipo de grid en seaborn\n",
    "%matplotlib inline\n",
    "\n",
    "#for linux use this\n",
    "#RUTA_DATOS = '../datos_navent_fiuba/'\n",
    "#and for windows use this\n",
    "RUTA_DATOS = 'datos_navent_fiuba/'"
   ]
  },
  {
   "cell_type": "code",
   "execution_count": null,
   "metadata": {},
   "outputs": [],
   "source": [
    "#se cargan los datos\n",
    "postulantes_educacion = pd.read_csv(RUTA_DATOS + 'fiuba_1_postulantes_educacion.csv')\n",
    "pos_gen_edad = pd.read_csv(RUTA_DATOS + 'fiuba_2_postulantes_genero_y_edad.csv')\n",
    "vistas = pd.read_csv(RUTA_DATOS + 'fiuba_3_vistas.csv')\n",
    "postulaciones = pd.read_csv(RUTA_DATOS + 'fiuba_4_postulaciones.csv')\n",
    "avisos_online = pd.read_csv(RUTA_DATOS + 'fiuba_5_avisos_online.csv')\n",
    "avisos_detalle = pd.read_csv(RUTA_DATOS + 'fiuba_6_avisos_detalle.csv')\n"
   ]
  },
  {
   "cell_type": "code",
   "execution_count": null,
   "metadata": {},
   "outputs": [],
   "source": [
    "postulantes_educacion.info()"
   ]
  },
  {
   "cell_type": "code",
   "execution_count": null,
   "metadata": {},
   "outputs": [],
   "source": [
    "#vemos que tenemos un problema\n",
    "#vemos que se repiten los id\n",
    "postulantes_educacion[\"idpostulante\"].value_counts().head()"
   ]
  },
  {
   "cell_type": "code",
   "execution_count": null,
   "metadata": {},
   "outputs": [],
   "source": [
    "#ejemplo, vemos que el probleam es muy jodido\n",
    "(postulantes_educacion.loc[postulantes_educacion['idpostulante'] == \"YlMLGD\" ]).head(20)"
   ]
  },
  {
   "cell_type": "code",
   "execution_count": null,
   "metadata": {},
   "outputs": [],
   "source": [
    "postulantes_educacion[\"estado\"].value_counts()\n",
    "#orden deseado(esta mal xq puede tener mas de dos graduados por ejemplo)\n",
    "#En curso\n",
    "#Abondonado\n",
    "#Graduado"
   ]
  },
  {
   "cell_type": "code",
   "execution_count": null,
   "metadata": {},
   "outputs": [],
   "source": [
    "z={\"En Curso\":\"AEn Curso\",\"Abondonado\":\"BAbondonado\",\"Graduado\":\"CGraduado\"}\n",
    "postulantes_educacion[\"estado\"]=postulantes_educacion[\"estado\"].map(z)\n",
    "postulantes_educacion[\"estado\"].head()"
   ]
  },
  {
   "cell_type": "code",
   "execution_count": null,
   "metadata": {},
   "outputs": [],
   "source": [
    "postulantes_educacion.sort_values(by=['estado']).head()"
   ]
  },
  {
   "cell_type": "code",
   "execution_count": null,
   "metadata": {},
   "outputs": [],
   "source": [
    "##no se porque se borraron los abandonados (ahora si se, quiere decir que todos se graduaron de algo onunca abandonaron)\n",
    "postulantes_educacion.drop_duplicates(subset=[\"idpostulante\"], keep='last', inplace=True)"
   ]
  },
  {
   "cell_type": "code",
   "execution_count": null,
   "metadata": {},
   "outputs": [],
   "source": [
    "postulantes_educacion.info()"
   ]
  },
  {
   "cell_type": "code",
   "execution_count": null,
   "metadata": {},
   "outputs": [],
   "source": []
  }
 ],
 "metadata": {
  "kernelspec": {
   "display_name": "Python 3",
   "language": "python",
   "name": "python3"
  },
  "language_info": {
   "codemirror_mode": {
    "name": "ipython",
    "version": 3
   },
   "file_extension": ".py",
   "mimetype": "text/x-python",
   "name": "python",
   "nbconvert_exporter": "python",
   "pygments_lexer": "ipython3",
   "version": "3.5.2"
  }
 },
 "nbformat": 4,
 "nbformat_minor": 2
}
