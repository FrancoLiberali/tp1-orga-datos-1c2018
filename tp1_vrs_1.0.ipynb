{
 "cells": [
  {
   "cell_type": "code",
   "execution_count": null,
   "metadata": {},
   "outputs": [],
   "source": []
  },
  {
   "cell_type": "code",
   "execution_count": 29,
   "metadata": {},
   "outputs": [],
   "source": [
    "import numpy as np \n",
    "import pandas as pd\n",
    "\n",
    "# plots\n",
    "import matplotlib.pyplot as plt\n",
    "import seaborn as sns\n",
    "%matplotlib inline\n",
    "\n",
    "RUTA_DATOS = '~/orga-datos/datos_navent_fiuba'"
   ]
  },
  {
   "cell_type": "code",
   "execution_count": 30,
   "metadata": {},
   "outputs": [],
   "source": [
    "#Se cargan los datos en un data frame de los postulantes, con su titulo y en que estado se encuentra\n",
    "df_postulantes_educacion = pd.read_csv(RUTA_DATOS + '/fiuba_1_postulantes_educacion.csv')\n",
    "df_postulantes_educacion.head(1)\n",
    "df_postulantes_educacion['estado'] = df_postulantes_educacion['estado'].astype('category')\n"
   ]
  },
  {
   "cell_type": "code",
   "execution_count": 31,
   "metadata": {},
   "outputs": [
    {
     "data": {
      "text/plain": [
       "104295"
      ]
     },
     "execution_count": 31,
     "metadata": {},
     "output_type": "execute_result"
    }
   ],
   "source": [
    "#Nos quedamos unicamente con los Universitarios\n",
    "df_postulantes_universitarios = df_postulantes_educacion[df_postulantes_educacion['nombre'] == 'Universitario']\n",
    "\n",
    "df_postulantes_universitarios.head(1)\n",
    "len(df_postulantes_universitarios)"
   ]
  },
  {
   "cell_type": "code",
   "execution_count": 32,
   "metadata": {},
   "outputs": [
    {
     "data": {
      "text/plain": [
       "193936"
      ]
     },
     "execution_count": 32,
     "metadata": {},
     "output_type": "execute_result"
    }
   ],
   "source": [
    "df_postulantes_no_universitarios= df_postulantes_educacion[df_postulantes_educacion['nombre'] != 'Universitario']\n",
    "len(df_postulantes_no_universitarios)"
   ]
  },
  {
   "cell_type": "code",
   "execution_count": 46,
   "metadata": {},
   "outputs": [],
   "source": [
    "#Para un analisis mas detallado, separamos a los universitarios en 3 categorias\n",
    "#Universitarios En Curso.\n",
    "df_universitarios_en_curso = df_postulantes_universitarios[df_postulantes_universitarios['estado'] == 'En Curso']\n",
    "#Universitarios Graduados\n",
    "df_universitarios_graduado = df_postulantes_universitarios[df_postulantes_universitarios['estado'] == 'Graduado']\n",
    "#Universitarios Abandonado\n",
    "df_universitarios_abandonado = df_postulantes_universitarios[df_postulantes_universitarios['estado'] == 'Abandonado'] "
   ]
  },
  {
   "cell_type": "code",
   "execution_count": 47,
   "metadata": {},
   "outputs": [
    {
     "name": "stdout",
     "output_type": "stream",
     "text": [
      "La cantidad de universitarios en curso es: 50733\n",
      "La cantidad de universitarios graduados es: 38607\n",
      "La cantidad de universitarios abandonado es: 14955\n"
     ]
    }
   ],
   "source": [
    "#Veo la cantidad de datos de cada categoria\n",
    "print('La cantidad de universitarios en curso es: '+ str(len(df_universitarios_en_curso)))\n",
    "print('La cantidad de universitarios graduados es: '+ str(len(df_universitarios_graduado)))\n",
    "print('La cantidad de universitarios abandonado es: '+ str(len(df_universitarios_abandonado)))"
   ]
  },
  {
   "cell_type": "code",
   "execution_count": 35,
   "metadata": {},
   "outputs": [],
   "source": [
    "#Por la cantidad de datos que tenemos, podemos ver que las conclusiones que obtengamos de los\n",
    "#universitarios en curso sera la mas precisa, luego la de los graduados y finalmente la mas \n",
    "#impresisa sera la de los que abandonaron"
   ]
  },
  {
   "cell_type": "code",
   "execution_count": null,
   "metadata": {},
   "outputs": [],
   "source": []
  },
  {
   "cell_type": "code",
   "execution_count": 36,
   "metadata": {},
   "outputs": [
    {
     "data": {
      "text/html": [
       "<div>\n",
       "<style scoped>\n",
       "    .dataframe tbody tr th:only-of-type {\n",
       "        vertical-align: middle;\n",
       "    }\n",
       "\n",
       "    .dataframe tbody tr th {\n",
       "        vertical-align: top;\n",
       "    }\n",
       "\n",
       "    .dataframe thead th {\n",
       "        text-align: right;\n",
       "    }\n",
       "</style>\n",
       "<table border=\"1\" class=\"dataframe\">\n",
       "  <thead>\n",
       "    <tr style=\"text-align: right;\">\n",
       "      <th></th>\n",
       "      <th>idpostulante</th>\n",
       "      <th>fechanacimiento</th>\n",
       "      <th>sexo</th>\n",
       "    </tr>\n",
       "  </thead>\n",
       "  <tbody>\n",
       "    <tr>\n",
       "      <th>0</th>\n",
       "      <td>NM5M</td>\n",
       "      <td>1970-12-03</td>\n",
       "      <td>FEM</td>\n",
       "    </tr>\n",
       "  </tbody>\n",
       "</table>\n",
       "</div>"
      ],
      "text/plain": [
       "  idpostulante fechanacimiento sexo\n",
       "0         NM5M      1970-12-03  FEM"
      ]
     },
     "execution_count": 36,
     "metadata": {},
     "output_type": "execute_result"
    }
   ],
   "source": [
    "#Se cargan los datos en un data frame de los postulantes, con su genero y edad\n",
    "df_postulantes_genero_y_edad = pd.read_csv(RUTA_DATOS + '/fiuba_2_postulantes_genero_y_edad.csv')\n",
    "df_postulantes_genero_y_edad.head(1)"
   ]
  },
  {
   "cell_type": "code",
   "execution_count": 48,
   "metadata": {},
   "outputs": [],
   "source": [
    "len(df_universitarios_en_curso)\n",
    "len(df_postulantes_genero_y_edad)\n",
    "df_uni_y_edad = pd.merge(df_universitarios_en_curso, df_postulantes_genero_y_edad, on = 'idpostulante', how = 'left')\n",
    "len(df_uni_y_edad)"
   ]
  },
  {
   "cell_type": "code",
   "execution_count": 51,
   "metadata": {},
   "outputs": [
    {
     "data": {
      "text/plain": [
       "True     29175\n",
       "False    21558\n",
       "Name: sexo, dtype: int64"
      ]
     },
     "execution_count": 51,
     "metadata": {},
     "output_type": "execute_result"
    }
   ],
   "source": [
    "(df_uni_y_edad['sexo'] == 'FEM').value_counts()"
   ]
  },
  {
   "cell_type": "code",
   "execution_count": 49,
   "metadata": {},
   "outputs": [],
   "source": [
    "#Realizo un merge por la columna 'idpostulante' quedandome solo con los universitarios (separado en categorias)\n",
    "#Comienzo con los universitarios en curso\n",
    "df_universitarios_en_curso = pd.merge(df_universitarios_en_curso,df_postulantes_genero_y_edad, on = 'idpostulante',how = 'left')"
   ]
  },
  {
   "cell_type": "code",
   "execution_count": 50,
   "metadata": {},
   "outputs": [
    {
     "name": "stdout",
     "output_type": "stream",
     "text": [
      "Edad promedio 27.4911905713\n",
      "Edad máxima 2014\n",
      "Edad mínima 18\n",
      "Edad máxima 66\n",
      "Edad promedio 27.3728749226\n",
      "Cantidad 50057\n"
     ]
    },
    {
     "data": {
      "text/plain": [
       "50733"
      ]
     },
     "execution_count": 50,
     "metadata": {},
     "output_type": "execute_result"
    }
   ],
   "source": [
    "edad = df_universitarios_en_curso.fechanacimiento.str.split('-').str.get(0)\n",
    "edad = edad.dropna(0)\n",
    "edad = 2018 - pd.to_numeric(edad)\n",
    "print('Edad promedio', edad.mean())\n",
    "print('Edad máxima', edad.max()) #deberia eliminar el 2014\n",
    "print('Edad mínima', edad.min())\n",
    "edad = edad[(edad < 1985)]\n",
    "print('Edad máxima', edad.max())\n",
    "print('Edad promedio', edad.mean())\n",
    "print('Cantidad', len(edad))\n",
    "len(df_universitarios_en_curso)"
   ]
  },
  {
   "cell_type": "code",
   "execution_count": 11,
   "metadata": {},
   "outputs": [
    {
     "data": {
      "text/plain": [
       "<matplotlib.text.Text at 0x7f02234236a0>"
      ]
     },
     "execution_count": 11,
     "metadata": {},
     "output_type": "execute_result"
    },
    {
     "data": {
      "image/png": "[encoded data removed]",
      "text/plain": [
       "<matplotlib.figure.Figure at 0x7f022345ab38>"
      ]
     },
     "metadata": {},
     "output_type": "display_data"
    }
   ],
   "source": [
    "#La edad minima dio un resultado logico mientras que la maximo dio uno absurdo. Se filtraran los \n",
    "#datos dando una edad maxima de 80 años.\n",
    "edad.plot.hist(bins =range(15,60))\n",
    "plt.title('Distribucion de edades para universitarios en curso', fontsize = 20)\n",
    "plt.xlabel('Edad', fontsize=16)\n",
    "plt.ylabel('Numero de personas', fontsize=16)"
   ]
  },
  {
   "cell_type": "code",
   "execution_count": 12,
   "metadata": {},
   "outputs": [],
   "source": [
    "#Realizo un merge por la columna 'idpostulante' quedandome solo con los universitarios (separado en categorias)\n",
    "#Comienzo con los universitarios graduados\n",
    "df_universitarios_graduado = pd.merge(df_universitarios_graduado,df_postulantes_genero_y_edad, on = 'idpostulante',how = 'left')"
   ]
  },
  {
   "cell_type": "code",
   "execution_count": 13,
   "metadata": {},
   "outputs": [
    {
     "name": "stdout",
     "output_type": "stream",
     "text": [
      "34.043818139\n",
      "97\n",
      "12\n",
      "34.0460725865\n",
      "19\n",
      "38244\n"
     ]
    }
   ],
   "source": [
    "edad = df_universitarios_graduado.fechanacimiento.str.split('-').str.get(0)\n",
    "edad = edad.dropna(0)\n",
    "edad = 2018 - pd.to_numeric(edad)\n",
    "print(edad.mean())\n",
    "print(edad.max()) \n",
    "print(edad.min())\n",
    "edad = edad[(edad > 18)]\n",
    "print(edad.mean())\n",
    "print(edad.min())\n",
    "print(len(edad))"
   ]
  },
  {
   "cell_type": "code",
   "execution_count": 14,
   "metadata": {},
   "outputs": [
    {
     "data": {
      "text/plain": [
       "<matplotlib.text.Text at 0x7f02223c11d0>"
      ]
     },
     "execution_count": 14,
     "metadata": {},
     "output_type": "execute_result"
    },
    {
     "data": {
      "image/png": "[encoded data removed]",
      "text/plain": [
       "<matplotlib.figure.Figure at 0x7f0260d0bc18>"
      ]
     },
     "metadata": {},
     "output_type": "display_data"
    }
   ],
   "source": [
    "#(Lo mas logico es que la max y min sean anomalias pero las dejo, grafico aso)\n",
    "edad.plot.hist(bins =range(10,100))\n",
    "plt.title('Distribucion de edades para universitarios graduados', fontsize = 20)\n",
    "plt.xlabel('Edad', fontsize=16)\n",
    "plt.ylabel('Numero de personas', fontsize=16)"
   ]
  },
  {
   "cell_type": "code",
   "execution_count": 15,
   "metadata": {},
   "outputs": [],
   "source": [
    "#Realizo un merge por la columna 'idpostulante' quedandome solo con los universitarios (separado en categorias)\n",
    "#Comienzo con los universitarios que abandonaron\n",
    "df_universitarios_abandonado = pd.merge(df_universitarios_abandonado ,df_postulantes_genero_y_edad, on = 'idpostulante',how = 'left')"
   ]
  },
  {
   "cell_type": "code",
   "execution_count": 16,
   "metadata": {},
   "outputs": [
    {
     "name": "stdout",
     "output_type": "stream",
     "text": [
      "33.4091553575\n",
      "75\n",
      "18\n",
      "14811\n"
     ]
    }
   ],
   "source": [
    "edad = df_universitarios_abandonado.fechanacimiento.str.split('-').str.get(0)\n",
    "edad = edad.dropna(0)\n",
    "edad = 2018 - pd.to_numeric(edad)\n",
    "print(edad.mean())\n",
    "print(edad.max())\n",
    "print(edad.min())\n",
    "print(len(edad))"
   ]
  },
  {
   "cell_type": "code",
   "execution_count": 17,
   "metadata": {},
   "outputs": [
    {
     "data": {
      "text/plain": [
       "<matplotlib.text.Text at 0x7f0222e900f0>"
      ]
     },
     "execution_count": 17,
     "metadata": {},
     "output_type": "execute_result"
    },
    {
     "data": {
      "image/png": "[encoded data removed]",
      "text/plain": [
       "<matplotlib.figure.Figure at 0x7f0222465160>"
      ]
     },
     "metadata": {},
     "output_type": "display_data"
    }
   ],
   "source": [
    "#Parecen resultados aceptables\n",
    "edad.plot.hist(bins =range(10,100))\n",
    "plt.title('Distribucion de edades para universitarios que abandoraron', fontsize = 20)\n",
    "plt.xlabel('Edad', fontsize=16)\n",
    "plt.ylabel('Numero de personas', fontsize=16)"
   ]
  },
  {
   "cell_type": "code",
   "execution_count": 18,
   "metadata": {},
   "outputs": [],
   "source": [
    "#Se puede concluir que independientemente de si los unviersitarios estan en curso, son graduados\n",
    "#o abandonaron, la mayor cantidad de postulantes se encuentran entre los 20 y 40 años de edad.  \n",
    "#(MAS O MENOS HAY QUE SUPERPONER GRAFICOS CON EL SEABORN)"
   ]
  },
  {
   "cell_type": "code",
   "execution_count": 19,
   "metadata": {},
   "outputs": [],
   "source": [
    "#Se podria continuar viendo el promedio de postulaciones de cada categoria por persona y viendo en que tiempo fueron estas postulaciones\n",
    "#Se podria ver cuales son los trabajos mas buscados por cada categoria y su rango laboral\n",
    "#Se podria ver lo mas buscado dependiedno el sexo(?)\n"
   ]
  },
  {
   "cell_type": "code",
   "execution_count": 20,
   "metadata": {},
   "outputs": [
    {
     "data": {
      "text/html": [
       "<div>\n",
       "<style scoped>\n",
       "    .dataframe tbody tr th:only-of-type {\n",
       "        vertical-align: middle;\n",
       "    }\n",
       "\n",
       "    .dataframe tbody tr th {\n",
       "        vertical-align: top;\n",
       "    }\n",
       "\n",
       "    .dataframe thead th {\n",
       "        text-align: right;\n",
       "    }\n",
       "</style>\n",
       "<table border=\"1\" class=\"dataframe\">\n",
       "  <thead>\n",
       "    <tr style=\"text-align: right;\">\n",
       "      <th></th>\n",
       "      <th>idaviso</th>\n",
       "      <th>idpostulante</th>\n",
       "      <th>fechapostulacion</th>\n",
       "    </tr>\n",
       "  </thead>\n",
       "  <tbody>\n",
       "    <tr>\n",
       "      <th>0</th>\n",
       "      <td>1112257047</td>\n",
       "      <td>NM5M</td>\n",
       "      <td>2018-01-15 16:22:34</td>\n",
       "    </tr>\n",
       "  </tbody>\n",
       "</table>\n",
       "</div>"
      ],
      "text/plain": [
       "      idaviso idpostulante     fechapostulacion\n",
       "0  1112257047         NM5M  2018-01-15 16:22:34"
      ]
     },
     "execution_count": 20,
     "metadata": {},
     "output_type": "execute_result"
    }
   ],
   "source": [
    "#Se vera el promedio de postulaciones de los usuarios de cada categoria. Para eso comienzo importante el csv de postulaciones y realizo un merge\n",
    "df_postulaciones = pd.read_csv(RUTA_DATOS + '/fiuba_4_postulaciones.csv')\n",
    "df_postulaciones.head(1)"
   ]
  },
  {
   "cell_type": "code",
   "execution_count": 21,
   "metadata": {},
   "outputs": [
    {
     "data": {
      "text/html": [
       "<div>\n",
       "<style scoped>\n",
       "    .dataframe tbody tr th:only-of-type {\n",
       "        vertical-align: middle;\n",
       "    }\n",
       "\n",
       "    .dataframe tbody tr th {\n",
       "        vertical-align: top;\n",
       "    }\n",
       "\n",
       "    .dataframe thead th {\n",
       "        text-align: right;\n",
       "    }\n",
       "</style>\n",
       "<table border=\"1\" class=\"dataframe\">\n",
       "  <thead>\n",
       "    <tr style=\"text-align: right;\">\n",
       "      <th></th>\n",
       "      <th>idpostulante</th>\n",
       "      <th>nombre</th>\n",
       "      <th>estado</th>\n",
       "      <th>fechanacimiento</th>\n",
       "      <th>sexo</th>\n",
       "      <th>idaviso</th>\n",
       "      <th>fechapostulacion</th>\n",
       "    </tr>\n",
       "  </thead>\n",
       "  <tbody>\n",
       "    <tr>\n",
       "      <th>0</th>\n",
       "      <td>8BkL</td>\n",
       "      <td>Universitario</td>\n",
       "      <td>En Curso</td>\n",
       "      <td>1976-07-21</td>\n",
       "      <td>FEM</td>\n",
       "      <td>1112266605</td>\n",
       "      <td>2018-01-18 09:56:10</td>\n",
       "    </tr>\n",
       "  </tbody>\n",
       "</table>\n",
       "</div>"
      ],
      "text/plain": [
       "  idpostulante         nombre    estado fechanacimiento sexo     idaviso  \\\n",
       "0         8BkL  Universitario  En Curso      1976-07-21  FEM  1112266605   \n",
       "\n",
       "      fechapostulacion  \n",
       "0  2018-01-18 09:56:10  "
      ]
     },
     "execution_count": 21,
     "metadata": {},
     "output_type": "execute_result"
    }
   ],
   "source": [
    "df_universitarios_en_curso = pd.merge(df_universitarios_en_curso,df_postulaciones, on = 'idpostulante',how = 'left')\n",
    "df_universitarios_en_curso.head(1)"
   ]
  },
  {
   "cell_type": "code",
   "execution_count": 22,
   "metadata": {},
   "outputs": [
    {
     "name": "stdout",
     "output_type": "stream",
     "text": [
      "<class 'pandas.core.frame.DataFrame'>\n",
      "Int64Index: 976326 entries, 0 to 976325\n",
      "Data columns (total 7 columns):\n",
      "idpostulante        976326 non-null object\n",
      "nombre              976326 non-null object\n",
      "estado              976326 non-null category\n",
      "fechanacimiento     968436 non-null object\n",
      "sexo                976326 non-null object\n",
      "idaviso             976326 non-null int64\n",
      "fechapostulacion    976326 non-null object\n",
      "dtypes: category(1), int64(1), object(5)\n",
      "memory usage: 53.1+ MB\n"
     ]
    }
   ],
   "source": [
    "df_universitarios_en_curso.info()"
   ]
  },
  {
   "cell_type": "code",
   "execution_count": 143,
   "metadata": {},
   "outputs": [
    {
     "data": {
      "text/plain": [
       "idpostulante  idaviso   \n",
       "0zB0Xwd       1110915410    1\n",
       "Name: idaviso, dtype: int64"
      ]
     },
     "execution_count": 143,
     "metadata": {},
     "output_type": "execute_result"
    }
   ],
   "source": [
    "df_universitarios_en_curso.groupby('idpostulante')['idaviso'].value_counts().head(1)\n",
    "#quiero sacar el promedio de postulaciones por usuario\n",
    "#igual para los graduados y en curso\n",
    "#despues quiero sacar el promedio de visitas \n",
    "#se podria realizar un grafico con las postulaciones de cada usuario y superponer con uno de vistitas"
   ]
  },
  {
   "cell_type": "code",
   "execution_count": 114,
   "metadata": {},
   "outputs": [],
   "source": []
  },
  {
   "cell_type": "code",
   "execution_count": null,
   "metadata": {},
   "outputs": [],
   "source": []
  },
  {
   "cell_type": "code",
   "execution_count": null,
   "metadata": {},
   "outputs": [],
   "source": []
  }
 ],
 "metadata": {
  "kernelspec": {
   "display_name": "Python 3",
   "language": "python",
   "name": "python3"
  },
  "language_info": {
   "codemirror_mode": {
    "name": "ipython",
    "version": 3
   },
   "file_extension": ".py",
   "mimetype": "text/x-python",
   "name": "python",
   "nbconvert_exporter": "python",
   "pygments_lexer": "ipython3",
   "version": "3.5.2"
  }
 },
 "nbformat": 4,
 "nbformat_minor": 2
}
